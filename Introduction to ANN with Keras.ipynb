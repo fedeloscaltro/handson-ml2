{
 "cells": [
  {
   "cell_type": "code",
   "execution_count": 1,
   "metadata": {},
   "outputs": [],
   "source": [
    "import tensorflow as tf\n",
    "from tensorflow import keras"
   ]
  },
  {
   "cell_type": "code",
   "execution_count": 2,
   "metadata": {},
   "outputs": [],
   "source": [
    "import pandas as pd\n",
    "from matplotlib import pyplot as plt\n",
    "import numpy as np "
   ]
  },
  {
   "cell_type": "code",
   "execution_count": 2,
   "metadata": {},
   "outputs": [
    {
     "data": {
      "text/plain": [
       "'2.4.1'"
      ]
     },
     "execution_count": 2,
     "metadata": {},
     "output_type": "execute_result"
    }
   ],
   "source": [
    "tf.__version__"
   ]
  },
  {
   "cell_type": "code",
   "execution_count": 3,
   "metadata": {},
   "outputs": [
    {
     "name": "stdout",
     "output_type": "stream",
     "text": [
      "(60000, 28, 28)\n",
      "uint8\n"
     ]
    }
   ],
   "source": [
    "fashion_mnist = keras.datasets.fashion_mnist\n",
    "(X_train_full, y_train_full), (X_test, y_test) = fashion_mnist.load_data()\n",
    "print(X_train_full.shape)\n",
    "print(X_train_full.dtype)"
   ]
  },
  {
   "cell_type": "markdown",
   "metadata": {},
   "source": [
    "Differences between loading a model from Scikit-Learn and Keras:\n",
    "1. Keras provides samples in 28x28 array instead of 784x1\n",
    "2. the px intensities are _int_ and not _float_"
   ]
  },
  {
   "cell_type": "code",
   "execution_count": 4,
   "metadata": {},
   "outputs": [
    {
     "name": "stdout",
     "output_type": "stream",
     "text": [
      "Coat\n"
     ]
    }
   ],
   "source": [
    "X_valid, X_train = X_train_full[:5000] / 255.0, X_train_full[5000:] / 255.0\n",
    "y_valid, y_train = y_train_full[:5000], y_train_full[5000:]\n",
    "X_test = X_test / 255.0\n",
    "class_names = [\"T-shirt/top\", \"Trouser\", \"Pullover\", \"Dress\", \"Coat\",\n",
    "\"Sandal\", \"Shirt\", \"Sneaker\", \"Bag\", \"Ankle boot\"]\n",
    "print(class_names[y_train[0]])"
   ]
  },
  {
   "cell_type": "code",
   "execution_count": 5,
   "metadata": {},
   "outputs": [],
   "source": [
    "model = keras.models.Sequential() # simplest Keras model. Sequence of layers connected\n",
    "model.add(keras.layers.Flatten(input_shape=[28, 28])) # flats the entries from 28x28 to 1D array\n",
    "model.add(keras.layers.Dense(300, activation=\"relu\")) # manages its own weight matrix and a vector of bias terms\n",
    "model.add(keras.layers.Dense(100, activation=\"relu\"))\n",
    "model.add(keras.layers.Dense(10, activation=\"softmax\")) # softmax because the classes are exclusive"
   ]
  },
  {
   "cell_type": "code",
   "execution_count": 6,
   "metadata": {},
   "outputs": [],
   "source": [
    "# Alternatively you can do so\n",
    "model = keras.models.Sequential([\n",
    "    keras.layers.Flatten(input_shape=[28, 28]),\n",
    "    keras.layers.Dense(300, activation=\"relu\"),\n",
    "    keras.layers.Dense(100, activation=\"relu\"),\n",
    "    keras.layers.Dense(10, activation=\"softmax\")\n",
    "])"
   ]
  },
  {
   "cell_type": "code",
   "execution_count": 7,
   "metadata": {},
   "outputs": [
    {
     "name": "stdout",
     "output_type": "stream",
     "text": [
      "Model: \"sequential_1\"\n",
      "_________________________________________________________________\n",
      "Layer (type)                 Output Shape              Param #   \n",
      "=================================================================\n",
      "flatten_1 (Flatten)          (None, 784)               0         \n",
      "_________________________________________________________________\n",
      "dense_3 (Dense)              (None, 300)               235500    \n",
      "_________________________________________________________________\n",
      "dense_4 (Dense)              (None, 100)               30100     \n",
      "_________________________________________________________________\n",
      "dense_5 (Dense)              (None, 10)                1010      \n",
      "=================================================================\n",
      "Total params: 266,610\n",
      "Trainable params: 266,610\n",
      "Non-trainable params: 0\n",
      "_________________________________________________________________\n"
     ]
    }
   ],
   "source": [
    "model.summary()"
   ]
  },
  {
   "cell_type": "code",
   "execution_count": 8,
   "metadata": {},
   "outputs": [
    {
     "name": "stdout",
     "output_type": "stream",
     "text": [
      "('Failed to import pydot. You must `pip install pydot` and install graphviz (https://graphviz.gitlab.io/download/), ', 'for `pydotprint` to work.')\n"
     ]
    }
   ],
   "source": [
    "tf.keras.utils.plot_model(model, show_shapes=True)"
   ]
  },
  {
   "cell_type": "markdown",
   "metadata": {},
   "source": [
    "Lots of parameter in one layer give flexibility but likewise the risk of overfitting"
   ]
  },
  {
   "cell_type": "code",
   "execution_count": 9,
   "metadata": {},
   "outputs": [
    {
     "name": "stdout",
     "output_type": "stream",
     "text": [
      "[<tensorflow.python.keras.layers.core.Flatten object at 0x000001E057C135B0>, <tensorflow.python.keras.layers.core.Dense object at 0x000001E057C13820>, <tensorflow.python.keras.layers.core.Dense object at 0x000001E057C13B20>, <tensorflow.python.keras.layers.core.Dense object at 0x000001E057C13E80>]\n",
      "dense_3\n",
      "dense_3\n"
     ]
    }
   ],
   "source": [
    "print(model.layers)\n",
    "print(model.layers[1].name)\n",
    "print(model.get_layer('dense_3').name)"
   ]
  },
  {
   "cell_type": "code",
   "execution_count": 10,
   "metadata": {},
   "outputs": [
    {
     "name": "stdout",
     "output_type": "stream",
     "text": [
      "[[-0.06591538 -0.04258843 -0.06125759 ... -0.06310703 -0.014758\n",
      "   0.05193678]\n",
      " [ 0.03565789 -0.00507195 -0.03249889 ... -0.04906734 -0.07216693\n",
      "  -0.05161661]\n",
      " [-0.04546762  0.07286914 -0.04757213 ...  0.00148711 -0.01548071\n",
      "  -0.04417607]\n",
      " ...\n",
      " [ 0.03791095 -0.01653283  0.01818878 ...  0.05791792  0.04634949\n",
      "   0.05374642]\n",
      " [ 0.01169322 -0.02764177 -0.01060294 ...  0.04013135  0.02488589\n",
      "   0.04151374]\n",
      " [ 0.00572349  0.05106379  0.07176374 ... -0.07044404 -0.05665747\n",
      "  -0.00018634]]\n",
      "(784, 300)\n",
      "(300,)\n"
     ]
    }
   ],
   "source": [
    "weights, biases = model.layers[1].get_weights()\n",
    "print(weights)\n",
    "print(weights.shape)\n",
    "print(biases.shape)"
   ]
  },
  {
   "cell_type": "markdown",
   "metadata": {},
   "source": [
    "If I know the input shape when creating the model, it is best to specify it.\n",
    "\n",
    "After the model is created, I must call its _compile()_ method to specify the loss function and the optimizer to use"
   ]
  },
  {
   "cell_type": "code",
   "execution_count": 11,
   "metadata": {},
   "outputs": [],
   "source": [
    "model.compile(loss=\"sparse_categorical_crossentropy\", # because we have sparse labels -> for each instance there's just a target class index and exclusive classes\n",
    "              optimizer=\"sgd\", # better to use =keras.ptimizers.SGD(lr=??) to set the learning rate\n",
    "              metrics=[\"accuracy\"])"
   ]
  },
  {
   "cell_type": "markdown",
   "metadata": {},
   "source": [
    "keras.utils.to_categorical() to transform from sparse labels to one-hot-vector.\n",
    "\n",
    "np.argmax() and axis=1 to go theother way round"
   ]
  },
  {
   "cell_type": "code",
   "execution_count": 12,
   "metadata": {},
   "outputs": [
    {
     "name": "stdout",
     "output_type": "stream",
     "text": [
      "Epoch 1/30\n",
      "1719/1719 [==============================] - 7s 4ms/step - loss: 0.9760 - accuracy: 0.6853 - val_loss: 0.5274 - val_accuracy: 0.8162\n",
      "Epoch 2/30\n",
      "1719/1719 [==============================] - 5s 3ms/step - loss: 0.5081 - accuracy: 0.8264 - val_loss: 0.4657 - val_accuracy: 0.8388\n",
      "Epoch 3/30\n",
      "1719/1719 [==============================] - 5s 3ms/step - loss: 0.4444 - accuracy: 0.8448 - val_loss: 0.4062 - val_accuracy: 0.8592\n",
      "Epoch 4/30\n",
      "1719/1719 [==============================] - 5s 3ms/step - loss: 0.4161 - accuracy: 0.8543 - val_loss: 0.3915 - val_accuracy: 0.8642\n",
      "Epoch 5/30\n",
      "1719/1719 [==============================] - 8s 5ms/step - loss: 0.3949 - accuracy: 0.8599 - val_loss: 0.3792 - val_accuracy: 0.8706\n",
      "Epoch 6/30\n",
      "1719/1719 [==============================] - 5s 3ms/step - loss: 0.3732 - accuracy: 0.8684 - val_loss: 0.3730 - val_accuracy: 0.8710\n",
      "Epoch 7/30\n",
      "1719/1719 [==============================] - 7s 4ms/step - loss: 0.3625 - accuracy: 0.8702 - val_loss: 0.3622 - val_accuracy: 0.8744\n",
      "Epoch 8/30\n",
      "1719/1719 [==============================] - 6s 3ms/step - loss: 0.3523 - accuracy: 0.8750 - val_loss: 0.3529 - val_accuracy: 0.8722\n",
      "Epoch 9/30\n",
      "1719/1719 [==============================] - 8s 5ms/step - loss: 0.3415 - accuracy: 0.8783 - val_loss: 0.3437 - val_accuracy: 0.8792\n",
      "Epoch 10/30\n",
      "1719/1719 [==============================] - 5s 3ms/step - loss: 0.3332 - accuracy: 0.8807 - val_loss: 0.3505 - val_accuracy: 0.8740\n",
      "Epoch 11/30\n",
      "1719/1719 [==============================] - 8s 5ms/step - loss: 0.3223 - accuracy: 0.8844 - val_loss: 0.3553 - val_accuracy: 0.8732\n",
      "Epoch 12/30\n",
      "1719/1719 [==============================] - 5s 3ms/step - loss: 0.3180 - accuracy: 0.8867 - val_loss: 0.3274 - val_accuracy: 0.8822\n",
      "Epoch 13/30\n",
      "1719/1719 [==============================] - 9s 5ms/step - loss: 0.3072 - accuracy: 0.8896 - val_loss: 0.3237 - val_accuracy: 0.8834\n",
      "Epoch 14/30\n",
      "1719/1719 [==============================] - 5s 3ms/step - loss: 0.2986 - accuracy: 0.8939 - val_loss: 0.3298 - val_accuracy: 0.8814\n",
      "Epoch 15/30\n",
      "1719/1719 [==============================] - 9s 5ms/step - loss: 0.2950 - accuracy: 0.8937 - val_loss: 0.3202 - val_accuracy: 0.8860\n",
      "Epoch 16/30\n",
      "1719/1719 [==============================] - 5s 3ms/step - loss: 0.2926 - accuracy: 0.8952 - val_loss: 0.3131 - val_accuracy: 0.8880\n",
      "Epoch 17/30\n",
      "1719/1719 [==============================] - 9s 5ms/step - loss: 0.2820 - accuracy: 0.8989 - val_loss: 0.3239 - val_accuracy: 0.8844\n",
      "Epoch 18/30\n",
      "1719/1719 [==============================] - 6s 3ms/step - loss: 0.2809 - accuracy: 0.8982 - val_loss: 0.3176 - val_accuracy: 0.8882\n",
      "Epoch 19/30\n",
      "1719/1719 [==============================] - 8s 5ms/step - loss: 0.2730 - accuracy: 0.9020 - val_loss: 0.3152 - val_accuracy: 0.8862\n",
      "Epoch 20/30\n",
      "1719/1719 [==============================] - 7s 4ms/step - loss: 0.2646 - accuracy: 0.9063 - val_loss: 0.3105 - val_accuracy: 0.8868\n",
      "Epoch 21/30\n",
      "1719/1719 [==============================] - 7s 4ms/step - loss: 0.2548 - accuracy: 0.9073 - val_loss: 0.3081 - val_accuracy: 0.8900\n",
      "Epoch 22/30\n",
      "1719/1719 [==============================] - 8s 5ms/step - loss: 0.2554 - accuracy: 0.9070 - val_loss: 0.3062 - val_accuracy: 0.8898\n",
      "Epoch 23/30\n",
      "1719/1719 [==============================] - 6s 3ms/step - loss: 0.2559 - accuracy: 0.9069 - val_loss: 0.3322 - val_accuracy: 0.8784\n",
      "Epoch 24/30\n",
      "1719/1719 [==============================] - 9s 5ms/step - loss: 0.2441 - accuracy: 0.9111 - val_loss: 0.3046 - val_accuracy: 0.8872\n",
      "Epoch 25/30\n",
      "1719/1719 [==============================] - 6s 4ms/step - loss: 0.2438 - accuracy: 0.9134 - val_loss: 0.3295 - val_accuracy: 0.8836\n",
      "Epoch 26/30\n",
      "1719/1719 [==============================] - 8s 5ms/step - loss: 0.2403 - accuracy: 0.9135 - val_loss: 0.2909 - val_accuracy: 0.8962\n",
      "Epoch 27/30\n",
      "1719/1719 [==============================] - 10s 6ms/step - loss: 0.2377 - accuracy: 0.9144 - val_loss: 0.2970 - val_accuracy: 0.8926\n",
      "Epoch 28/30\n",
      "1719/1719 [==============================] - 7s 4ms/step - loss: 0.2284 - accuracy: 0.9166 - val_loss: 0.2960 - val_accuracy: 0.8918\n",
      "Epoch 29/30\n",
      "1719/1719 [==============================] - 7s 4ms/step - loss: 0.2262 - accuracy: 0.9188 - val_loss: 0.2897 - val_accuracy: 0.8946\n",
      "Epoch 30/30\n",
      "1719/1719 [==============================] - 9s 5ms/step - loss: 0.2239 - accuracy: 0.9200 - val_loss: 0.2907 - val_accuracy: 0.8942\n"
     ]
    }
   ],
   "source": [
    "history = model.fit(X_train, y_train, epochs=30, validation_data=(X_valid, y_valid))\n"
   ]
  },
  {
   "cell_type": "code",
   "execution_count": 13,
   "metadata": {},
   "outputs": [
    {
     "data": {
      "image/png": "[encoded data removed]",
      "text/plain": [
       "<Figure size 576x360 with 1 Axes>"
      ]
     },
     "metadata": {
      "needs_background": "light"
     },
     "output_type": "display_data"
    }
   ],
   "source": [
    "pd.DataFrame(history.history).plot(figsize=(8, 5))\n",
    "plt.grid(True)\n",
    "plt.gca().set_ylim(0, 1) # set the vertical range to [0-1]\n",
    "plt.show()"
   ]
  },
  {
   "cell_type": "code",
   "execution_count": 14,
   "metadata": {},
   "outputs": [
    {
     "name": "stdout",
     "output_type": "stream",
     "text": [
      "313/313 [==============================] - 1s 2ms/step - loss: 0.3221 - accuracy: 0.8854\n"
     ]
    },
    {
     "data": {
      "text/plain": [
       "[0.32206082344055176, 0.8853999972343445]"
      ]
     },
     "execution_count": 14,
     "metadata": {},
     "output_type": "execute_result"
    }
   ],
   "source": [
    "model.evaluate(X_test, y_test)"
   ]
  },
  {
   "cell_type": "markdown",
   "metadata": {},
   "source": [
    "#### Some hyperparameter to tune\n",
    "1. learning rate\n",
    "2. the optimizer\n",
    "3. number of layers\n",
    "4. number of neurons per layer\n",
    "5. activation functions to use for each hidden layer\n",
    "6. the batch size\n",
    "\n",
    "<b>ALERT: DO NOT TWEAK THE HYPERPARAMETERS ON THE TEST SET</b>"
   ]
  },
  {
   "cell_type": "markdown",
   "metadata": {},
   "source": [
    "### Using the Model to Make Predictions"
   ]
  },
  {
   "cell_type": "code",
   "execution_count": 15,
   "metadata": {},
   "outputs": [
    {
     "data": {
      "text/plain": [
       "array([[0.  , 0.  , 0.  , 0.  , 0.  , 0.  , 0.  , 0.01, 0.  , 0.99],\n",
       "       [0.  , 0.  , 0.99, 0.  , 0.01, 0.  , 0.  , 0.  , 0.  , 0.  ],\n",
       "       [0.  , 1.  , 0.  , 0.  , 0.  , 0.  , 0.  , 0.  , 0.  , 0.  ]],\n",
       "      dtype=float32)"
      ]
     },
     "execution_count": 15,
     "metadata": {},
     "output_type": "execute_result"
    }
   ],
   "source": [
    "X_new = X_test[:3]\n",
    "y_proba = model.predict(X_new)\n",
    "y_proba.round(2)"
   ]
  },
  {
   "cell_type": "code",
   "execution_count": 18,
   "metadata": {},
   "outputs": [
    {
     "name": "stdout",
     "output_type": "stream",
     "text": [
      "[9 2 1]\n",
      "['Ankle boot' 'Pullover' 'Trouser']\n"
     ]
    }
   ],
   "source": [
    "y_pred = model.predict_classes(X_new)\n",
    "print(y_pred)\n",
    "print(np.array(class_names)[y_pred])"
   ]
  },
  {
   "cell_type": "code",
   "execution_count": 19,
   "metadata": {},
   "outputs": [
    {
     "data": {
      "text/plain": [
       "array([9, 2, 1], dtype=uint8)"
      ]
     },
     "execution_count": 19,
     "metadata": {},
     "output_type": "execute_result"
    }
   ],
   "source": [
    "y_new = y_test[:3]\n",
    "y_new"
   ]
  },
  {
   "cell_type": "markdown",
   "metadata": {},
   "source": [
    "## Building a RegressionMLP Using te Sequential API"
   ]
  },
  {
   "cell_type": "code",
   "execution_count": 1,
   "metadata": {},
   "outputs": [],
   "source": [
    "from sklearn.datasets import fetch_california_housing\n",
    "from sklearn.model_selection import train_test_split\n",
    "from sklearn.preprocessing import StandardScaler\n",
    "\n",
    "housing = fetch_california_housing()\n",
    "X_train_full, X_test, y_train_full, y_test = train_test_split(housing.data, housing.target)\n",
    "X_train, X_valid, y_train, y_valid = train_test_split(X_train_full, y_train_full)\n",
    "\n",
    "scaler = StandardScaler()\n",
    "X_train_scaled = scaler.fit_transform(X_train)\n",
    "X_valid_scaled = scaler.transform(X_valid)\n",
    "X_test_scaled = scaler.transform(X_test)"
   ]
  },
  {
   "cell_type": "markdown",
   "metadata": {},
   "source": [
    "The main differences are the fact that the output layer has a single neuron (since we only want to\n",
    "predict a single value) and uses no activation function, and the loss function is the\n",
    "mean squared error.\n",
    "\n",
    "Since the dataset is quite noisy, we just use a single hidden layer with fewer neurons than before, to avoid overfitting."
   ]
  },
  {
   "cell_type": "code",
   "execution_count": 4,
   "metadata": {},
   "outputs": [
    {
     "name": "stdout",
     "output_type": "stream",
     "text": [
      "Epoch 1/20\n",
      "363/363 [==============================] - 2s 5ms/step - loss: nan - val_loss: nan\n",
      "Epoch 2/20\n",
      "363/363 [==============================] - 0s 1ms/step - loss: nan - val_loss: nan\n",
      "Epoch 3/20\n",
      "363/363 [==============================] - 0s 1ms/step - loss: nan - val_loss: nan\n",
      "Epoch 4/20\n",
      "363/363 [==============================] - 0s 1ms/step - loss: nan - val_loss: nan\n",
      "Epoch 5/20\n",
      "363/363 [==============================] - 0s 1ms/step - loss: nan - val_loss: nan\n",
      "Epoch 6/20\n",
      "363/363 [==============================] - 0s 1ms/step - loss: nan - val_loss: nan\n",
      "Epoch 7/20\n",
      "363/363 [==============================] - ETA: 0s - loss: n - 0s 1ms/step - loss: nan - val_loss: nan\n",
      "Epoch 8/20\n",
      "363/363 [==============================] - 0s 1ms/step - loss: nan - val_loss: nan\n",
      "Epoch 9/20\n",
      "363/363 [==============================] - 0s 1ms/step - loss: nan - val_loss: nan\n",
      "Epoch 10/20\n",
      "363/363 [==============================] - 0s 1ms/step - loss: nan - val_loss: nan\n",
      "Epoch 11/20\n",
      "363/363 [==============================] - 0s 1ms/step - loss: nan - val_loss: nan\n",
      "Epoch 12/20\n",
      "363/363 [==============================] - 0s 1ms/step - loss: nan - val_loss: nan\n",
      "Epoch 13/20\n",
      "363/363 [==============================] - 0s 1ms/step - loss: nan - val_loss: nan\n",
      "Epoch 14/20\n",
      "363/363 [==============================] - 0s 1ms/step - loss: nan - val_loss: nan\n",
      "Epoch 15/20\n",
      "363/363 [==============================] - 0s 1ms/step - loss: nan - val_loss: nan\n",
      "Epoch 16/20\n",
      "363/363 [==============================] - 0s 1ms/step - loss: nan - val_loss: nan\n",
      "Epoch 17/20\n",
      "363/363 [==============================] - 0s 1ms/step - loss: nan - val_loss: nan\n",
      "Epoch 18/20\n",
      "363/363 [==============================] - 0s 1ms/step - loss: nan - val_loss: nan\n",
      "Epoch 19/20\n",
      "363/363 [==============================] - 1s 1ms/step - loss: nan - val_loss: nan\n",
      "Epoch 20/20\n",
      "363/363 [==============================] - 1s 1ms/step - loss: nan - val_loss: nan\n",
      "162/162 [==============================] - 0s 857us/step - loss: nan\n"
     ]
    }
   ],
   "source": [
    "model = keras.models.Sequential([\n",
    "    keras.layers.Dense(30, activation=\"relu\", input_shape=X_train.shape[1:]),\n",
    "    keras.layers.Dense(1)\n",
    "])\n",
    "model.compile(loss=\"mean_squared_error\", optimizer=\"sgd\")\n",
    "history = model.fit(X_train, y_train, epochs=20,\n",
    "                    validation_data=(X_valid, y_valid))\n",
    "mse_test = model.evaluate(X_test, y_test)\n",
    "\n",
    "X_new = X_test[:3] # pretend these are new instances\n",
    "y_pred = model.predict(X_new)"
   ]
  },
  {
   "cell_type": "markdown",
   "metadata": {},
   "source": [
    "## Building Complex Models Using the Functional API\n",
    "This architecture makes it possible for the neural network to learn both deep patterns (using the deep path) and simple rules (through the short path).\n",
    "\n",
    "A regular MLP forces all the data to flow through the full stack of layers, thus\n",
    "simple patterns in the data may end up being distorted by this sequence of transformations."
   ]
  },
  {
   "cell_type": "code",
   "execution_count": 7,
   "metadata": {},
   "outputs": [],
   "source": [
    "inputt = keras.layers.Input(shape=X_train.shape[1:]) # specification of the kind of input model will get\n",
    "hidden1 = keras.layers.Dense(30, activation=\"relu\")(inputt) # call it like a function, passing it the input. \n",
    "                                                            # This is why this is called the Functional API\n",
    "hidden2 = keras.layers.Dense(30, activation=\"relu\")(hidden1)\n",
    "concat = keras.layers.Concatenate()([inputt, hidden2])\n",
    "output = keras.layers.Dense(1)(concat)\n",
    "model = keras.models.Model(inputs=[inputt], outputs=[output])"
   ]
  },
  {
   "cell_type": "markdown",
   "metadata": {},
   "source": [
    "Once you have built the Keras model, everything is exactly like earlier, so no need to\n",
    "repeat it here: you must compile the model, train it, evaluate it and use it to make\n",
    "predictions."
   ]
  },
  {
   "cell_type": "code",
   "execution_count": 8,
   "metadata": {},
   "outputs": [],
   "source": [
    "input_A = keras.layers.Input(shape=[5])\n",
    "input_B = keras.layers.Input(shape=[6])\n",
    "hidden1 = keras.layers.Dense(30, activation=\"relu\")(input_B)\n",
    "hidden2 = keras.layers.Dense(30, activation=\"relu\")(hidden1)\n",
    "concat = keras.layers.concatenate([input_A, hidden2])\n",
    "output = keras.layers.Dense(1)(concat)\n",
    "model = keras.models.Model(inputs=[input_A, input_B], outputs=[output])"
   ]
  },
  {
   "cell_type": "markdown",
   "metadata": {},
   "source": [
    "When we call the fit() method, instead of passing a single input matrix X_train, we must pass a\n",
    "pair of matrices (X_train_A, X_train_B): one per input"
   ]
  },
  {
   "cell_type": "code",
   "execution_count": 9,
   "metadata": {},
   "outputs": [
    {
     "name": "stdout",
     "output_type": "stream",
     "text": [
      "Epoch 1/20\n",
      "363/363 [==============================] - 1s 2ms/step - loss: nan - val_loss: nan\n",
      "Epoch 2/20\n",
      "363/363 [==============================] - 1s 1ms/step - loss: nan - val_loss: nan\n",
      "Epoch 3/20\n",
      "363/363 [==============================] - 1s 1ms/step - loss: nan - val_loss: nan\n",
      "Epoch 4/20\n",
      "363/363 [==============================] - 1s 1ms/step - loss: nan - val_loss: nan\n",
      "Epoch 5/20\n",
      "363/363 [==============================] - 1s 1ms/step - loss: nan - val_loss: nan\n",
      "Epoch 6/20\n",
      "363/363 [==============================] - 1s 1ms/step - loss: nan - val_loss: nan\n",
      "Epoch 7/20\n",
      "363/363 [==============================] - 0s 1ms/step - loss: nan - val_loss: nan\n",
      "Epoch 8/20\n",
      "363/363 [==============================] - 1s 1ms/step - loss: nan - val_loss: nan\n",
      "Epoch 9/20\n",
      "363/363 [==============================] - 1s 1ms/step - loss: nan - val_loss: nan\n",
      "Epoch 10/20\n",
      "363/363 [==============================] - 1s 1ms/step - loss: nan - val_loss: nan\n",
      "Epoch 11/20\n",
      "363/363 [==============================] - 0s 1ms/step - loss: nan - val_loss: nan\n",
      "Epoch 12/20\n",
      "363/363 [==============================] - 1s 1ms/step - loss: nan - val_loss: nan\n",
      "Epoch 13/20\n",
      "363/363 [==============================] - 1s 1ms/step - loss: nan - val_loss: nan\n",
      "Epoch 14/20\n",
      "363/363 [==============================] - 1s 1ms/step - loss: nan - val_loss: nan\n",
      "Epoch 15/20\n",
      "363/363 [==============================] - 0s 1ms/step - loss: nan - val_loss: nan\n",
      "Epoch 16/20\n",
      "363/363 [==============================] - 1s 1ms/step - loss: nan - val_loss: nan\n",
      "Epoch 17/20\n",
      "363/363 [==============================] - 1s 1ms/step - loss: nan - val_loss: nan\n",
      "Epoch 18/20\n",
      "363/363 [==============================] - 1s 1ms/step - loss: nan - val_loss: nan\n",
      "Epoch 19/20\n",
      "363/363 [==============================] - 0s 1ms/step - loss: nan - val_loss: nan\n",
      "Epoch 20/20\n",
      "363/363 [==============================] - 1s 1ms/step - loss: nan - val_loss: nan\n",
      "162/162 [==============================] - 0s 914us/step - loss: nan\n"
     ]
    }
   ],
   "source": [
    "model.compile(loss=\"mse\", optimizer=\"sgd\")\n",
    "X_train_A, X_train_B = X_train[:, :5], X_train[:, 2:]\n",
    "X_valid_A, X_valid_B = X_valid[:, :5], X_valid[:, 2:]\n",
    "X_test_A, X_test_B = X_test[:, :5], X_test[:, 2:]\n",
    "X_new_A, X_new_B = X_test_A[:3], X_test_B[:3]\n",
    "\n",
    "history = model.fit((X_train_A, X_train_B), y_train, epochs=20,\n",
    "                    validation_data=((X_valid_A, X_valid_B), y_valid))\n",
    "mse_test = model.evaluate((X_test_A, X_test_B), y_test)\n",
    "y_pred = model.predict((X_new_A, X_new_B))"
   ]
  },
  {
   "cell_type": "markdown",
   "metadata": {},
   "source": [
    "Use cases:\n",
    "- the task demand it. For instance locate and classify main object in a picture --> bot classification and regression task\n",
    "- you may have multiple independent tasks to perform based on the same data\n",
    "- a regularization technique. For example, you may want to add some auxiliary outputs in a neural network\n",
    "architecture to ensure that the underlying part of the network learns something useful on its own, without relying on the rest of the network."
   ]
  },
  {
   "cell_type": "code",
   "execution_count": 10,
   "metadata": {},
   "outputs": [],
   "source": [
    "# [...] Same as above, up to the main output layer\n",
    "output = keras.layers.Dense(1)(concat)\n",
    "aux_output = keras.layers.Dense(1)(hidden2)\n",
    "model = keras.models.Model(inputs=[input_A, input_B],\n",
    "outputs=[output, aux_output])"
   ]
  },
  {
   "cell_type": "markdown",
   "metadata": {},
   "source": [
    "Each output will need its own loss function.\n",
    "\n",
    "Keras will compute all these losses and simply add them up to get the final loss used for training.\n",
    "\n",
    "It is possible to set all the loss weights when compiling the model:"
   ]
  },
  {
   "cell_type": "code",
   "execution_count": 11,
   "metadata": {},
   "outputs": [],
   "source": [
    "model.compile(loss=[\"mse\", \"mse\"], loss_weights=[0.9, 0.1], optimizer=\"sgd\")"
   ]
  },
  {
   "cell_type": "markdown",
   "metadata": {},
   "source": [
    "We need to provide some labels for each output."
   ]
  },
  {
   "cell_type": "code",
   "execution_count": null,
   "metadata": {},
   "outputs": [],
   "source": [
    "history = model.fit([X_train_A, X_train_B], [y_train, y_train], epochs=20,\n",
    "                    validation_data=([X_valid_A, X_valid_B], [y_valid, y_valid]))"
   ]
  },
  {
   "cell_type": "code",
   "execution_count": null,
   "metadata": {},
   "outputs": [],
   "source": [
    "total_loss, main_loss, aux_loss = model.evaluate([X_test_A, X_test_B], [y_test, y_test])"
   ]
  },
  {
   "cell_type": "code",
   "execution_count": null,
   "metadata": {},
   "outputs": [],
   "source": [
    "y_pred_main, y_pred_aux = model.predict([X_new_A, X_new_B])"
   ]
  },
  {
   "cell_type": "markdown",
   "metadata": {},
   "source": [
    "## Building Dynamic Models Using the Subclassing API"
   ]
  },
  {
   "cell_type": "code",
   "execution_count": 13,
   "metadata": {},
   "outputs": [],
   "source": [
    "class WideAndDeepModel(keras.models.Model):\n",
    "    def __init__(self, units=30, activation=\"relu\", **kwargs):\n",
    "        super().__init__(**kwargs) # handles standard args (e.g., name)\n",
    "        self.hidden1 = keras.layers.Dense(units, activation=activation)\n",
    "        self.hidden2 = keras.layers.Dense(units, activation=activation)\n",
    "        self.main_output = keras.layers.Dense(1)\n",
    "        self.aux_output = keras.layers.Dense(1)\n",
    "    \n",
    "    def call(self, inputs):\n",
    "        input_A, input_B = inputs\n",
    "        hidden1 = self.hidden1(input_B)\n",
    "        hidden2 = self.hidden2(hidden1)\n",
    "        concat = keras.layers.concatenate([input_A, hidden2])\n",
    "        main_output = self.main_output(concat)\n",
    "        aux_output = self.aux_output(hidden2)\n",
    "        return main_output, aux_output\n",
    "    \n",
    "model = WideAndDeepModel()"
   ]
  },
  {
   "cell_type": "markdown",
   "metadata": {},
   "source": [
    "This extra flexibility comes at a cost: \n",
    "- your model’s architecture is hidden within the call() method, so Keras cannot easily inspect it, \n",
    "- Keras cannot save or clone it,\n",
    "- when you call the summary() method, you only get a list of layers, without any information on how they are connected to each other\n",
    "- Keras cannot check types and shapes ahead of time, and it is easier to make mistakes\n",
    "\n",
    "\n",
    "TO SUMMARIZE: unless you really need that extra flexibility, you should probably stick to the Sequential API or the Functional API"
   ]
  },
  {
   "cell_type": "markdown",
   "metadata": {},
   "source": [
    "### Saving and Restoring a Model\n",
    "- Sequencial API or Functional API\n",
    "    - Saving\n",
    "```python\n",
    "    model = keras.models.Sequential([...])\n",
    "    model.compile([...])\n",
    "    model.fit([...])\n",
    "    model.save(\"my_keras_model.h5\")\n",
    "```\n",
    "    - Restoring\n",
    "```python\n",
    "    model = keras.models.load_model(\"my_keras_model.h5\")\n",
    "```\n",
    "\n",
    "- Dynamics Model:\n",
    "You can just save the model's parameters with _save_weights()_ and _restore_weights()_, but anything else should be saved by myself"
   ]
  },
  {
   "cell_type": "markdown",
   "metadata": {},
   "source": [
    "## Using Callbacks\n",
    "The fit() method accepts a callbacks argument that lets you specify a list of objects\n",
    "that Keras will call during training at the start and end of training, at the start and end\n",
    "of each epoch and even before and after processing each batch.\n",
    "\n",
    "If you use a validation set during training, you can set ```save_best_only=True ``` when creating the ModelCheckpoint. In this case, it will only save your model when its performance on the validation set is the best so far."
   ]
  },
  {
   "cell_type": "code",
   "execution_count": null,
   "metadata": {},
   "outputs": [],
   "source": [
    "checkpoint_cb = keras.callbacks.ModelCheckpoint(\"my_keras_model.h5\", save_best_only=True)\n",
    "history = model.fit(X_train, y_train, epochs=10,\n",
    "                    validation_data=(X_valid, y_valid), callbacks=[checkpoint_cb])\n",
    "model = keras.models.load_model(\"my_keras_model.h5\") # rollback to best model"
   ]
  },
  {
   "cell_type": "markdown",
   "metadata": {},
   "source": [
    "Another wqay to implement early stopping is with the EarlyStopping callback.\n",
    "\n",
    "You can combine both callbacks to both save checkpoints of your model, and actually interrupt training early when there is no more progress"
   ]
  },
  {
   "cell_type": "code",
   "execution_count": null,
   "metadata": {},
   "outputs": [],
   "source": [
    "early_stopping_cb = keras.callbacks.EarlyStopping(patience=10, restore_best_weights=True)\n",
    "history = model.fit(X_train, y_train, epochs=100, \n",
    "                    validation_data=(X_valid, y_valid),\n",
    "                    callbacks=[checkpoint_cb, early_stopping_cb])"
   ]
  },
  {
   "cell_type": "markdown",
   "metadata": {},
   "source": [
    "If you need extra control, you can easily write your own custom callbacks\n",
    "```python\n",
    "    class PrintValTrainRatioCallback(keras.callbacks.Callback):\n",
    "        def on_epoch_end(self, epoch, logs):\n",
    "            print(\"\\nval/train: {:.2f}\".format(logs[\"val_loss\"] / logs[\"loss\"]))\n",
    "```\n"
   ]
  },
  {
   "cell_type": "markdown",
   "metadata": {},
   "source": [
    "## Visualization Using TensorBoard\n",
    "\n",
    "TensorBoard is a great interactive visualization tool.\n",
    "\n",
    "To use it, you must modify your program so that it outputs the data you want to visualize to special binary log files called event files.\n",
    "\n",
    "Each binary data record is called a summary.\n",
    "\n",
    "In general, you want to point the TensorBoard server to a root log directory, and configure your program so that it writes to a different subdirectory every time it runs."
   ]
  },
  {
   "cell_type": "code",
   "execution_count": null,
   "metadata": {},
   "outputs": [],
   "source": [
    "import os\n",
    "\n",
    "root_logdir = os.path.join(os.curdir, \"my_logs\")\n",
    "def get_run_logdir():\n",
    "    import time\n",
    "    \n",
    "    run_id = time.strftime(\"run_%Y_%m_%d-%H_%M_%S\")\n",
    "    return os.path.join(root_logdir, run_id)\n",
    "\n",
    "run_logdir = get_run_logdir() # e.g., './my_logs/run_2019_01_16-11_28_43'\n",
    "\n",
    "# [...] Build and compile your model\n",
    "model.compile(loss=\"mse\", optimizer=\"sgd\")\n",
    "tensorboard_cb = keras.callbacks.TensorBoard(run_logdir)\n",
    "history = model.fit(X_train, y_train, epochs=30, \n",
    "                    validation_data=(X_valid, y_valid), callbacks=[tensorboard_cb])"
   ]
  },
  {
   "cell_type": "markdown",
   "metadata": {},
   "source": [
    "To start the TensorBand server type\n",
    "```BASH\n",
    "    python -m tensorband.main --logdir=./my_logs --port=6006\n",
    "```\n",
    "Alternatively type directly in Jupyter:\n",
    "```Jupyter\n",
    "    %load_ext tensorboard\n",
    "    %tensorboard --logdir=./my_logs --port=6006\n",
    "```"
   ]
  },
  {
   "cell_type": "code",
   "execution_count": null,
   "metadata": {},
   "outputs": [],
   "source": [
    "tensor_logdir = get_run_logdir()\n",
    "writer = tf.summary.create_file_writer(test_logdir)\n",
    "\n",
    "with writer.as_default():\n",
    "        for step in range(1, 1000 + 1):\n",
    "            tf.summary.scalar(\"my_scalar\", np.sin(step / 10), step=step)\n",
    "            data = (np.random.randn(100) + 2) * step / 100 # some random data\n",
    "            tf.summary.histogram(\"my_hist\", data, buckets=50, step=step)\n",
    "            data = np.random.randn(2, 32, 32, 3) # random 32x32 RGB images\n",
    "            tf.summary.image(\"my_images\", images * step / 1000, step=step)\n",
    "            # ..."
   ]
  },
  {
   "cell_type": "markdown",
   "metadata": {},
   "source": [
    "# Fine-Tuning NN Hyperparameters\n",
    "One option is to simply try many combinations of hyperparameters and see which one works best on the validation set. For this, we need to wrap our Keras models in objects that mimic regular Scikit-Learn regressors"
   ]
  },
  {
   "cell_type": "code",
   "execution_count": 11,
   "metadata": {},
   "outputs": [],
   "source": [
    "def build_model(n_hidden=1, n_neurons=30, learning_rate=3e-3, input_shape=[8]):\n",
    "    model = keras.models.Sequential()\n",
    "    model.add(keras.layers.InputLayer(input_shape=input_shape))\n",
    "    \n",
    "    for layer in range(n_hidden):\n",
    "        model.add(keras.layers.Dense(n_neurons, activation=\"relu\"))\n",
    "        \n",
    "    model.add(keras.layers.Dense(1))\n",
    "    optimizer = keras.optimizers.SGD(lr=learning_rate)\n",
    "    model.compile(loss=\"mse\", optimizer=optimizer)\n",
    "    \n",
    "    return model"
   ]
  },
  {
   "cell_type": "code",
   "execution_count": 12,
   "metadata": {},
   "outputs": [
    {
     "name": "stdout",
     "output_type": "stream",
     "text": [
      "<class 'tensorflow.python.keras.wrappers.scikit_learn.KerasRegressor'>\n"
     ]
    }
   ],
   "source": [
    "keras_reg = keras.wrappers.scikit_learn.KerasRegressor(build_model)\n",
    "print(type(keras_reg))"
   ]
  },
  {
   "cell_type": "markdown",
   "metadata": {},
   "source": [
    "The _KerasRegressor_ object is a thin wrapper around the Keras model built using build_model().\n",
    "\n",
    "Now we can use this object like a regular Scikit-Learn regressor: we can train it using its fit() method, then evaluate it using its score() method, and use it to make predictions using its predict() method"
   ]
  },
  {
   "cell_type": "code",
   "execution_count": 21,
   "metadata": {},
   "outputs": [
    {
     "name": "stdout",
     "output_type": "stream",
     "text": [
      "Epoch 1/100\n",
      "363/363 [==============================] - 2s 4ms/step - loss: 103514582046790450184340897792.0000 - val_loss: 3316130541647728702652416.0000\n",
      "Epoch 2/100\n",
      "363/363 [==============================] - 1s 2ms/step - loss: 1562744285004331611062272.0000 - val_loss: 41989982162133297659904.0000\n",
      "Epoch 3/100\n",
      "363/363 [==============================] - 1s 2ms/step - loss: 19788039712328602615808.0000 - val_loss: 531694620163639869440.0000\n",
      "Epoch 4/100\n",
      "363/363 [==============================] - 0s 1ms/step - loss: 250563964556965838848.0000 - val_loss: 6732504310430564352.0000\n",
      "Epoch 5/100\n",
      "363/363 [==============================] - 1s 2ms/step - loss: 3172730522020958720.0000 - val_loss: 85249431468769280.0000\n",
      "Epoch 6/100\n",
      "363/363 [==============================] - 1s 1ms/step - loss: 40174272338132272.0000 - val_loss: 1079460975607808.0000\n",
      "Epoch 7/100\n",
      "363/363 [==============================] - 1s 2ms/step - loss: 508702242514786.4375 - val_loss: 13668555161600.0000\n",
      "Epoch 8/100\n",
      "363/363 [==============================] - 1s 1ms/step - loss: 6441382408327.0332 - val_loss: 173076037632.0000\n",
      "Epoch 9/100\n",
      "363/363 [==============================] - 1s 2ms/step - loss: 81563162173.8901 - val_loss: 2191553280.0000\n",
      "Epoch 10/100\n",
      "363/363 [==============================] - 1s 1ms/step - loss: 1032783921.6703 - val_loss: 27750150.0000\n",
      "Epoch 11/100\n",
      "363/363 [==============================] - 1s 1ms/step - loss: 13077491.5769 - val_loss: 351370.6250\n",
      "Epoch 12/100\n",
      "363/363 [==============================] - 1s 2ms/step - loss: 165588.9605 - val_loss: 4449.0708\n",
      "Epoch 13/100\n",
      "363/363 [==============================] - 1s 1ms/step - loss: 2097.5928 - val_loss: 57.5311\n",
      "Epoch 14/100\n",
      "363/363 [==============================] - 0s 1ms/step - loss: 27.7491 - val_loss: 2.0304\n",
      "Epoch 15/100\n",
      "363/363 [==============================] - 0s 1ms/step - loss: 1.6337 - val_loss: 1.3589\n",
      "Epoch 16/100\n",
      "363/363 [==============================] - 0s 1ms/step - loss: 1.3645 - val_loss: 1.3512\n",
      "Epoch 17/100\n",
      "363/363 [==============================] - 1s 1ms/step - loss: 1.3054 - val_loss: 1.3512\n",
      "Epoch 18/100\n",
      "363/363 [==============================] - 0s 1ms/step - loss: 1.3327 - val_loss: 1.3513\n",
      "Epoch 19/100\n",
      "363/363 [==============================] - 0s 1ms/step - loss: 1.3111 - val_loss: 1.3513\n",
      "Epoch 20/100\n",
      "363/363 [==============================] - 1s 1ms/step - loss: 1.3470 - val_loss: 1.3512\n",
      "Epoch 21/100\n",
      "363/363 [==============================] - 1s 2ms/step - loss: 1.3569 - val_loss: 1.3513\n",
      "Epoch 22/100\n",
      "363/363 [==============================] - 1s 1ms/step - loss: 1.3265 - val_loss: 1.3514\n",
      "Epoch 23/100\n",
      "363/363 [==============================] - 1s 1ms/step - loss: 1.3316 - val_loss: 1.3512\n",
      "Epoch 24/100\n",
      "363/363 [==============================] - 1s 1ms/step - loss: 1.3117 - val_loss: 1.3515\n",
      "Epoch 25/100\n",
      "363/363 [==============================] - 1s 2ms/step - loss: 1.3349 - val_loss: 1.3514\n",
      "Epoch 26/100\n",
      "363/363 [==============================] - 1s 2ms/step - loss: 1.3177 - val_loss: 1.3514\n",
      "162/162 [==============================] - 0s 954us/step - loss: 1.3208\n"
     ]
    }
   ],
   "source": [
    "keras_reg.fit(X_train, y_train, epochs=100, \n",
    "              validation_data=(X_valid, y_valid), \n",
    "              callbacks=[keras.callbacks.EarlyStopping(patience=10)])\n",
    "mse_test = keras_reg.score(X_test, y_test)\n",
    "y_pred = keras_reg.predict(X_new)"
   ]
  },
  {
   "cell_type": "code",
   "execution_count": 23,
   "metadata": {},
   "outputs": [
    {
     "name": "stdout",
     "output_type": "stream",
     "text": [
      "Epoch 1/100\n",
      "242/242 [==============================] - 1s 3ms/step - loss: nan - val_loss: nan\n",
      "Epoch 2/100\n",
      "242/242 [==============================] - 1s 2ms/step - loss: nan - val_loss: nan\n",
      "Epoch 3/100\n",
      "242/242 [==============================] - 0s 2ms/step - loss: nan - val_loss: nan\n",
      "Epoch 4/100\n",
      "242/242 [==============================] - 0s 2ms/step - loss: nan - val_loss: nan\n",
      "Epoch 5/100\n",
      "242/242 [==============================] - 0s 2ms/step - loss: nan - val_loss: nan\n",
      "Epoch 6/100\n",
      "242/242 [==============================] - 0s 2ms/step - loss: nan - val_loss: nan\n",
      "Epoch 7/100\n",
      "242/242 [==============================] - 0s 2ms/step - loss: nan - val_loss: nan\n",
      "Epoch 8/100\n",
      "242/242 [==============================] - 1s 2ms/step - loss: nan - val_loss: nan\n",
      "Epoch 9/100\n",
      "242/242 [==============================] - 0s 2ms/step - loss: nan - val_loss: nan\n",
      "Epoch 10/100\n",
      "242/242 [==============================] - 0s 2ms/step - loss: nan - val_loss: nan\n",
      "121/121 [==============================] - 0s 911us/step - loss: nan\n",
      "Epoch 1/100\n",
      "242/242 [==============================] - 1s 2ms/step - loss: nan - val_loss: nan\n",
      "Epoch 2/100\n",
      "242/242 [==============================] - 0s 2ms/step - loss: nan - val_loss: nan\n",
      "Epoch 3/100\n",
      "242/242 [==============================] - 0s 2ms/step - loss: nan - val_loss: nan\n",
      "Epoch 4/100\n",
      "242/242 [==============================] - 0s 2ms/step - loss: nan - val_loss: nan\n",
      "Epoch 5/100\n",
      "242/242 [==============================] - 0s 2ms/step - loss: nan - val_loss: nan\n",
      "Epoch 6/100\n",
      "242/242 [==============================] - 0s 2ms/step - loss: nan - val_loss: nan\n",
      "Epoch 7/100\n",
      "242/242 [==============================] - 0s 2ms/step - loss: nan - val_loss: nan\n",
      "Epoch 8/100\n",
      "242/242 [==============================] - 0s 2ms/step - loss: nan - val_loss: nan\n",
      "Epoch 9/100\n",
      "242/242 [==============================] - 0s 2ms/step - loss: nan - val_loss: nan\n",
      "Epoch 10/100\n",
      "242/242 [==============================] - 0s 2ms/step - loss: nan - val_loss: nan\n",
      "121/121 [==============================] - 0s 964us/step - loss: nan\n",
      "Epoch 1/100\n",
      "242/242 [==============================] - 1s 2ms/step - loss: nan - val_loss: nan\n",
      "Epoch 2/100\n",
      "242/242 [==============================] - 0s 2ms/step - loss: nan - val_loss: nan\n",
      "Epoch 3/100\n",
      "242/242 [==============================] - 0s 2ms/step - loss: nan - val_loss: nan\n",
      "Epoch 4/100\n",
      "242/242 [==============================] - 0s 2ms/step - loss: nan - val_loss: nan\n",
      "Epoch 5/100\n",
      "242/242 [==============================] - 0s 2ms/step - loss: nan - val_loss: nan\n",
      "Epoch 6/100\n",
      "242/242 [==============================] - 0s 2ms/step - loss: nan - val_loss: nan\n",
      "Epoch 7/100\n",
      "242/242 [==============================] - 0s 2ms/step - loss: nan - val_loss: nan\n",
      "Epoch 8/100\n",
      "242/242 [==============================] - 0s 2ms/step - loss: nan - val_loss: nan\n",
      "Epoch 9/100\n",
      "242/242 [==============================] - 1s 2ms/step - loss: nan - val_loss: nan\n",
      "Epoch 10/100\n",
      "242/242 [==============================] - 0s 2ms/step - loss: nan - val_loss: nan\n",
      "121/121 [==============================] - 0s 1ms/step - loss: nan\n",
      "Epoch 1/100\n",
      "242/242 [==============================] - 1s 3ms/step - loss: 276628655731887407104.0000 - val_loss: 20213574236372992.0000\n",
      "Epoch 2/100\n",
      "242/242 [==============================] - 0s 2ms/step - loss: 18658774503173320.0000 - val_loss: 14522338842247168.0000\n",
      "Epoch 3/100\n",
      "242/242 [==============================] - 0s 2ms/step - loss: 13405274619894830.0000 - val_loss: 10433465551945728.0000\n",
      "Epoch 4/100\n",
      "242/242 [==============================] - 0s 2ms/step - loss: 9630929716229158.0000 - val_loss: 7495851266015232.0000\n",
      "Epoch 5/100\n",
      "242/242 [==============================] - 0s 2ms/step - loss: 6919274711389593.0000 - val_loss: 5385341380853760.0000\n",
      "Epoch 6/100\n",
      "242/242 [==============================] - 0s 2ms/step - loss: 4971111125763464.0000 - val_loss: 3869070285864960.0000\n",
      "Epoch 7/100\n",
      "242/242 [==============================] - 0s 2ms/step - loss: 3571462256502927.5000 - val_loss: 2779703639277568.0000\n",
      "Epoch 8/100\n",
      "242/242 [==============================] - 0s 2ms/step - loss: 2565893046562731.5000 - val_loss: 1997060739956736.0000\n",
      "Epoch 9/100\n",
      "242/242 [==============================] - 0s 2ms/step - loss: 1843449499726886.0000 - val_loss: 1434776640684032.0000\n",
      "Epoch 10/100\n",
      "242/242 [==============================] - 0s 2ms/step - loss: 1324414516479368.0000 - val_loss: 1030806847881216.0000\n",
      "Epoch 11/100\n",
      "242/242 [==============================] - 1s 2ms/step - loss: 951516209730496.7500 - val_loss: 740573493329920.0000\n",
      "Epoch 12/100\n",
      "242/242 [==============================] - 0s 2ms/step - loss: 683609946615184.3750 - val_loss: 532060582182912.0000\n",
      "Epoch 13/100\n",
      "242/242 [==============================] - 0s 2ms/step - loss: 491134620237149.7500 - val_loss: 382254975025152.0000\n",
      "Epoch 14/100\n",
      "242/242 [==============================] - 0s 2ms/step - loss: 352852111934855.8750 - val_loss: 274628345856000.0000\n",
      "Epoch 15/100\n",
      "242/242 [==============================] - 0s 2ms/step - loss: 253504005716600.0938 - val_loss: 197304522899456.0000\n",
      "Epoch 16/100\n",
      "242/242 [==============================] - 0s 1ms/step - loss: 182128136309182.6875 - val_loss: 141752191156224.0000\n",
      "Epoch 17/100\n",
      "242/242 [==============================] - 0s 2ms/step - loss: 130848781730196.5469 - val_loss: 101841106894848.0000\n",
      "Epoch 18/100\n",
      "242/242 [==============================] - 1s 2ms/step - loss: 94007499936165.4062 - val_loss: 73167024422912.0000\n",
      "Epoch 19/100\n",
      "242/242 [==============================] - 1s 2ms/step - loss: 67539121762759.1094 - val_loss: 52566293479424.0000\n",
      "Epoch 20/100\n",
      "242/242 [==============================] - 0s 2ms/step - loss: 48522984250818.8984 - val_loss: 37765928452096.0000\n",
      "Epoch 21/100\n",
      "242/242 [==============================] - 1s 2ms/step - loss: 34861017857508.6094 - val_loss: 27132698820608.0000\n",
      "Epoch 22/100\n",
      "242/242 [==============================] - 1s 2ms/step - loss: 25045692539925.0703 - val_loss: 19493346607104.0000\n",
      "Epoch 23/100\n",
      "242/242 [==============================] - 0s 2ms/step - loss: 17993923571290.6016 - val_loss: 14004857602048.0000\n",
      "Epoch 24/100\n",
      "242/242 [==============================] - 0s 2ms/step - loss: 12927624727648.9219 - val_loss: 10061705379840.0000\n",
      "Epoch 25/100\n",
      "242/242 [==============================] - 0s 2ms/step - loss: 9287766910445.0371 - val_loss: 7228766027776.0000\n",
      "Epoch 26/100\n",
      "242/242 [==============================] - 0s 2ms/step - loss: 6672735785381.3994 - val_loss: 5193459040256.0000\n",
      "Epoch 27/100\n",
      "242/242 [==============================] - 1s 2ms/step - loss: 4793982131044.0820 - val_loss: 3731209322496.0000\n",
      "Epoch 28/100\n",
      "242/242 [==============================] - 0s 2ms/step - loss: 3444203115187.0947 - val_loss: 2680663048192.0000\n",
      "Epoch 29/100\n",
      "242/242 [==============================] - 0s 2ms/step - loss: 2474467340675.6870 - val_loss: 1925906038784.0000\n",
      "Epoch 30/100\n",
      "242/242 [==============================] - 1s 2ms/step - loss: 1777764977760.9219 - val_loss: 1383651606528.0000\n",
      "Epoch 31/100\n",
      "242/242 [==============================] - 0s 2ms/step - loss: 1277222985087.4731 - val_loss: 994075017216.0000\n",
      "Epoch 32/100\n",
      "242/242 [==============================] - 1s 2ms/step - loss: 917611352552.8230 - val_loss: 714186686464.0000\n",
      "Epoch 33/100\n",
      "242/242 [==============================] - 0s 2ms/step - loss: 659251608318.9465 - val_loss: 513102151680.0000\n",
      "Epoch 34/100\n",
      "242/242 [==============================] - 1s 2ms/step - loss: 473634982199.8354 - val_loss: 368634527744.0000\n",
      "Epoch 35/100\n",
      "242/242 [==============================] - 0s 2ms/step - loss: 340279589158.9794 - val_loss: 264843067392.0000\n",
      "Epoch 36/100\n",
      "242/242 [==============================] - 0s 2ms/step - loss: 244471643283.4897 - val_loss: 190274748416.0000\n",
      "Epoch 37/100\n",
      "242/242 [==============================] - 0s 2ms/step - loss: 175639092337.7778 - val_loss: 136701779968.0000\n",
      "Epoch 38/100\n",
      "242/242 [==============================] - 0s 2ms/step - loss: 126186794013.4979 - val_loss: 98212618240.0000\n",
      "Epoch 39/100\n",
      "242/242 [==============================] - 0s 2ms/step - loss: 90658082529.4486 - val_loss: 70560194560.0000\n",
      "Epoch 40/100\n",
      "242/242 [==============================] - 0s 2ms/step - loss: 65132719622.3210 - val_loss: 50693472256.0000\n",
      "Epoch 41/100\n",
      "242/242 [==============================] - 1s 2ms/step - loss: 46794184543.8683 - val_loss: 36420431872.0000\n",
      "Epoch 42/100\n",
      "242/242 [==============================] - 0s 2ms/step - loss: 33618979043.5556 - val_loss: 26166030336.0000\n",
      "Epoch 43/100\n",
      "242/242 [==============================] - 0s 2ms/step - loss: 24153335942.8477 - val_loss: 18798796800.0000\n",
      "Epoch 44/100\n",
      "242/242 [==============================] - 1s 2ms/step - loss: 17352809493.0700 - val_loss: 13505883136.0000\n",
      "Epoch 45/100\n",
      "242/242 [==============================] - 0s 2ms/step - loss: 12467012384.6584 - val_loss: 9703198720.0000\n",
      "Epoch 46/100\n",
      "242/242 [==============================] - 0s 2ms/step - loss: 8956827355.1276 - val_loss: 6971195392.0000\n",
      "Epoch 47/100\n",
      "242/242 [==============================] - 0s 2ms/step - loss: 6434974155.3251 - val_loss: 5008406016.0000\n",
      "Epoch 48/100\n",
      "242/242 [==============================] - 0s 2ms/step - loss: 4623162097.2510 - val_loss: 3598250240.0000\n",
      "Epoch 49/100\n",
      "242/242 [==============================] - 0s 2ms/step - loss: 3321475472.3292 - val_loss: 2585139712.0000\n",
      "Epoch 50/100\n",
      "242/242 [==============================] - 0s 2ms/step - loss: 2386292625.3827 - val_loss: 1857275904.0000\n",
      "Epoch 51/100\n",
      "242/242 [==============================] - 0s 2ms/step - loss: 1714414694.1893 - val_loss: 1334346240.0000\n",
      "Epoch 52/100\n",
      "242/242 [==============================] - 0s 2ms/step - loss: 1231707700.6749 - val_loss: 958652352.0000\n",
      "Epoch 53/100\n",
      "242/242 [==============================] - 0s 2ms/step - loss: 884913144.6255 - val_loss: 688737408.0000\n",
      "Epoch 54/100\n",
      "242/242 [==============================] - 0s 2ms/step - loss: 635759898.3374 - val_loss: 494819680.0000\n",
      "Epoch 55/100\n",
      "242/242 [==============================] - 0s 2ms/step - loss: 456756930.2387 - val_loss: 355499200.0000\n",
      "Epoch 56/100\n",
      "242/242 [==============================] - 0s 1ms/step - loss: 328153930.4033 - val_loss: 255406096.0000\n",
      "Epoch 57/100\n",
      "242/242 [==============================] - 0s 2ms/step - loss: 235760994.0412 - val_loss: 183494832.0000\n",
      "Epoch 58/100\n",
      "242/242 [==============================] - 0s 2ms/step - loss: 169379843.4239 - val_loss: 131830592.0000\n",
      "Epoch 59/100\n",
      "242/242 [==============================] - 1s 2ms/step - loss: 121689828.7737 - val_loss: 94712960.0000\n",
      "Epoch 60/100\n",
      "242/242 [==============================] - 0s 2ms/step - loss: 87427453.1358 - val_loss: 68045824.0000\n",
      "Epoch 61/100\n",
      "242/242 [==============================] - 0s 2ms/step - loss: 62811515.2428 - val_loss: 48887048.0000\n",
      "Epoch 62/100\n",
      "242/242 [==============================] - 0s 2ms/step - loss: 45126790.2716 - val_loss: 35122612.0000\n",
      "Epoch 63/100\n",
      "242/242 [==============================] - 1s 2ms/step - loss: 32420844.6667 - val_loss: 25233598.0000\n",
      "Epoch 64/100\n",
      "242/242 [==============================] - 0s 2ms/step - loss: 23292594.3704 - val_loss: 18128940.0000\n",
      "Epoch 65/100\n",
      "242/242 [==============================] - 0s 2ms/step - loss: 16734507.8066 - val_loss: 13024639.0000\n",
      "Epoch 66/100\n",
      "242/242 [==============================] - 1s 2ms/step - loss: 12022666.8642 - val_loss: 9357477.0000\n",
      "Epoch 67/100\n",
      "242/242 [==============================] - 0s 2ms/step - loss: 8637721.1399 - val_loss: 6722819.5000\n",
      "Epoch 68/100\n",
      "242/242 [==============================] - 0s 2ms/step - loss: 6205623.2469 - val_loss: 4829976.0000\n",
      "Epoch 69/100\n",
      "242/242 [==============================] - 0s 2ms/step - loss: 4458354.9228 - val_loss: 3470069.5000\n",
      "Epoch 70/100\n",
      "242/242 [==============================] - 0s 2ms/step - loss: 3203118.9599 - val_loss: 2493054.2500\n",
      "Epoch 71/100\n",
      "242/242 [==============================] - 0s 2ms/step - loss: 2301302.3374 - val_loss: 1791124.1250\n",
      "Epoch 72/100\n",
      "242/242 [==============================] - 0s 2ms/step - loss: 1653352.5874 - val_loss: 1286825.7500\n",
      "Epoch 73/100\n",
      "242/242 [==============================] - 0s 2ms/step - loss: 1187807.6502 - val_loss: 924514.6875\n",
      "Epoch 74/100\n",
      "242/242 [==============================] - 0s 2ms/step - loss: 853371.7521 - val_loss: 664215.3125\n",
      "Epoch 75/100\n",
      "242/242 [==============================] - 0s 2ms/step - loss: 613137.8699 - val_loss: 477203.7500\n",
      "Epoch 76/100\n",
      "242/242 [==============================] - 0s 2ms/step - loss: 440467.2020 - val_loss: 342846.2812\n",
      "Epoch 77/100\n",
      "242/242 [==============================] - 0s 2ms/step - loss: 316472.8457 - val_loss: 246318.3750\n",
      "Epoch 78/100\n",
      "242/242 [==============================] - 0s 2ms/step - loss: 227360.3261 - val_loss: 176967.7969\n",
      "Epoch 79/100\n",
      "242/242 [==============================] - 0s 2ms/step - loss: 163343.9176 - val_loss: 127143.1719\n",
      "Epoch 80/100\n",
      "242/242 [==============================] - 1s 3ms/step - loss: 117368.0324 - val_loss: 91346.6953\n",
      "Epoch 81/100\n",
      "242/242 [==============================] - 1s 6ms/step - loss: 84309.8102 - val_loss: 65628.7109\n",
      "Epoch 82/100\n",
      "242/242 [==============================] - 2s 8ms/step - loss: 60582.9913 - val_loss: 47151.7656\n",
      "Epoch 83/100\n",
      "242/242 [==============================] - 1s 3ms/step - loss: 43519.7880 - val_loss: 33877.0117\n",
      "Epoch 84/100\n",
      "242/242 [==============================] - 0s 2ms/step - loss: 31269.5249 - val_loss: 24339.6816\n",
      "Epoch 85/100\n",
      "242/242 [==============================] - 0s 1ms/step - loss: 22459.9641 - val_loss: 17487.5371\n",
      "Epoch 86/100\n",
      "242/242 [==============================] - 0s 2ms/step - loss: 16138.5949 - val_loss: 12564.6035\n",
      "Epoch 87/100\n",
      "242/242 [==============================] - 0s 2ms/step - loss: 11594.9201 - val_loss: 9027.7070\n",
      "Epoch 88/100\n",
      "242/242 [==============================] - 0s 2ms/step - loss: 8330.1826 - val_loss: 6486.5679\n",
      "Epoch 89/100\n",
      "242/242 [==============================] - 0s 2ms/step - loss: 5985.0913 - val_loss: 4660.8770\n",
      "Epoch 90/100\n",
      "242/242 [==============================] - 0s 1ms/step - loss: 4302.5444 - val_loss: 3349.1885\n",
      "Epoch 91/100\n",
      "242/242 [==============================] - 0s 1ms/step - loss: 3089.6985 - val_loss: 2406.7664\n",
      "Epoch 92/100\n",
      "242/242 [==============================] - 0s 2ms/step - loss: 2221.3343 - val_loss: 1729.6682\n",
      "Epoch 93/100\n",
      "242/242 [==============================] - 0s 2ms/step - loss: 1595.1726 - val_loss: 1243.1832\n",
      "Epoch 94/100\n",
      "242/242 [==============================] - 0s 2ms/step - loss: 1145.5163 - val_loss: 893.6394\n",
      "Epoch 95/100\n",
      "242/242 [==============================] - 0s 2ms/step - loss: 823.6834 - val_loss: 642.5021\n",
      "Epoch 96/100\n",
      "242/242 [==============================] - 0s 1ms/step - loss: 592.6360 - val_loss: 462.0652\n",
      "Epoch 97/100\n",
      "242/242 [==============================] - 0s 2ms/step - loss: 426.4843 - val_loss: 332.4195\n",
      "Epoch 98/100\n",
      "242/242 [==============================] - 0s 2ms/step - loss: 306.3062 - val_loss: 239.2625\n",
      "Epoch 99/100\n",
      "242/242 [==============================] - 0s 2ms/step - loss: 221.4145 - val_loss: 172.3316\n",
      "Epoch 100/100\n",
      "242/242 [==============================] - 0s 2ms/step - loss: 158.6840 - val_loss: 124.2318\n",
      "121/121 [==============================] - 0s 835us/step - loss: 124.2870\n",
      "Epoch 1/100\n",
      "242/242 [==============================] - 1s 2ms/step - loss: nan - val_loss: nan\n",
      "Epoch 2/100\n",
      "242/242 [==============================] - 0s 2ms/step - loss: nan - val_loss: nan\n",
      "Epoch 3/100\n",
      "242/242 [==============================] - 0s 1ms/step - loss: nan - val_loss: nan\n",
      "Epoch 4/100\n",
      "242/242 [==============================] - 0s 2ms/step - loss: nan - val_loss: nan\n",
      "Epoch 5/100\n",
      "242/242 [==============================] - 0s 2ms/step - loss: nan - val_loss: nan\n",
      "Epoch 6/100\n",
      "242/242 [==============================] - 0s 2ms/step - loss: nan - val_loss: nan\n",
      "Epoch 7/100\n",
      "242/242 [==============================] - 0s 2ms/step - loss: nan - val_loss: nan\n",
      "Epoch 8/100\n",
      "242/242 [==============================] - 0s 2ms/step - loss: nan - val_loss: nan\n",
      "Epoch 9/100\n",
      "242/242 [==============================] - 0s 1ms/step - loss: nan - val_loss: nan\n",
      "Epoch 10/100\n",
      "242/242 [==============================] - 0s 2ms/step - loss: nan - val_loss: nan\n",
      "121/121 [==============================] - 0s 944us/step - loss: nan\n",
      "Epoch 1/100\n",
      "242/242 [==============================] - 1s 2ms/step - loss: 2256723336521339.0000 - val_loss: 67516887040.0000\n",
      "Epoch 2/100\n",
      "242/242 [==============================] - 0s 2ms/step - loss: 62323584164.3457 - val_loss: 48507092992.0000\n",
      "Epoch 3/100\n"
     ]
    },
    {
     "name": "stdout",
     "output_type": "stream",
     "text": [
      "242/242 [==============================] - 0s 2ms/step - loss: 44775951558.0576 - val_loss: 34849550336.0000\n",
      "Epoch 4/100\n",
      "242/242 [==============================] - 0s 2ms/step - loss: 32168934496.9218 - val_loss: 25037393920.0000\n",
      "Epoch 5/100\n",
      "242/242 [==============================] - 0s 2ms/step - loss: 23111554448.3292 - val_loss: 17987964928.0000\n",
      "Epoch 6/100\n",
      "242/242 [==============================] - 0s 2ms/step - loss: 16604361997.6955 - val_loss: 12923353088.0000\n",
      "Epoch 7/100\n",
      "242/242 [==============================] - 0s 1ms/step - loss: 11929300402.0412 - val_loss: 9284702208.0000\n",
      "Epoch 8/100\n",
      "242/242 [==============================] - 0s 2ms/step - loss: 8570527604.9383 - val_loss: 6670522880.0000\n",
      "Epoch 9/100\n",
      "242/242 [==============================] - 0s 2ms/step - loss: 6157435737.5473 - val_loss: 4792396288.0000\n",
      "Epoch 10/100\n",
      "242/242 [==============================] - 0s 2ms/step - loss: 4423769786.4691 - val_loss: 3443057664.0000\n",
      "Epoch 11/100\n",
      "242/242 [==============================] - 1s 5ms/step - loss: 3178228633.8107 - val_loss: 2473645824.0000\n",
      "Epoch 12/100\n",
      "242/242 [==============================] - 1s 6ms/step - loss: 2283376853.3333 - val_loss: 1777171840.0000\n",
      "Epoch 13/100\n",
      "242/242 [==============================] - 1s 6ms/step - loss: 1640475883.4568 - val_loss: 1276798080.0000\n",
      "Epoch 14/100\n",
      "242/242 [==============================] - 1s 3ms/step - loss: 1178592283.9177 - val_loss: 917307776.0000\n",
      "Epoch 15/100\n",
      "242/242 [==============================] - 0s 2ms/step - loss: 846750690.5021 - val_loss: 659033152.0000\n",
      "Epoch 16/100\n",
      "242/242 [==============================] - 0s 2ms/step - loss: 608343149.5638 - val_loss: 473477632.0000\n",
      "Epoch 17/100\n",
      "242/242 [==============================] - 0s 2ms/step - loss: 437059174.8477 - val_loss: 340167072.0000\n",
      "Epoch 18/100\n",
      "242/242 [==============================] - 0s 2ms/step - loss: 314002171.9177 - val_loss: 244390944.0000\n",
      "Epoch 19/100\n",
      "242/242 [==============================] - 0s 2ms/step - loss: 225593707.3909 - val_loss: 175581056.0000\n",
      "Epoch 20/100\n",
      "242/242 [==============================] - 0s 2ms/step - loss: 162076622.8148 - val_loss: 126145136.0000\n",
      "Epoch 21/100\n",
      "242/242 [==============================] - 0s 2ms/step - loss: 116442645.6296 - val_loss: 90627976.0000\n",
      "Epoch 22/100\n",
      "242/242 [==============================] - 0s 2ms/step - loss: 83657797.8930 - val_loss: 65111060.0000\n",
      "Epoch 23/100\n",
      "242/242 [==============================] - 0s 2ms/step - loss: 60103084.1646 - val_loss: 46778544.0000\n",
      "Epoch 24/100\n",
      "242/242 [==============================] - 0s 1ms/step - loss: 43180685.8436 - val_loss: 33607664.0000\n",
      "Epoch 25/100\n",
      "242/242 [==============================] - 0s 2ms/step - loss: 31022769.3992 - val_loss: 24145124.0000\n",
      "Epoch 26/100\n",
      "242/242 [==============================] - 0s 2ms/step - loss: 22288404.7078 - val_loss: 17346874.0000\n",
      "Epoch 27/100\n",
      "242/242 [==============================] - 0s 2ms/step - loss: 16013054.6255 - val_loss: 12462715.0000\n",
      "Epoch 28/100\n",
      "242/242 [==============================] - 0s 2ms/step - loss: 11504338.0165 - val_loss: 8953740.0000\n",
      "Epoch 29/100\n",
      "242/242 [==============================] - 0s 2ms/step - loss: 8265198.1132 - val_loss: 6432724.5000\n",
      "Epoch 30/100\n",
      "242/242 [==============================] - 0s 1ms/step - loss: 5938041.9239 - val_loss: 4621526.0000\n",
      "Epoch 31/100\n",
      "242/242 [==============================] - 0s 2ms/step - loss: 4266201.7675 - val_loss: 3320289.5000\n",
      "Epoch 32/100\n",
      "242/242 [==============================] - 0s 2ms/step - loss: 3064980.8796 - val_loss: 2385426.5000\n",
      "Epoch 33/100\n",
      "242/242 [==============================] - 0s 2ms/step - loss: 2202076.0242 - val_loss: 1713782.1250\n",
      "Epoch 34/100\n",
      "242/242 [==============================] - 0s 2ms/step - loss: 1581992.3616 - val_loss: 1231244.8750\n",
      "Epoch 35/100\n",
      "242/242 [==============================] - 0s 1ms/step - loss: 1136610.0247 - val_loss: 884574.3125\n",
      "Epoch 36/100\n",
      "242/242 [==============================] - 0s 2ms/step - loss: 816568.6656 - val_loss: 635510.3125\n",
      "Epoch 37/100\n",
      "242/242 [==============================] - 0s 2ms/step - loss: 586676.2716 - val_loss: 456572.9688\n",
      "Epoch 38/100\n",
      "242/242 [==============================] - 0s 2ms/step - loss: 421517.1168 - val_loss: 328016.6875\n",
      "Epoch 39/100\n",
      "242/242 [==============================] - 0s 2ms/step - loss: 302824.0608 - val_loss: 235658.0000\n",
      "Epoch 40/100\n",
      "242/242 [==============================] - 0s 1ms/step - loss: 217577.4875 - val_loss: 169304.1719\n",
      "Epoch 41/100\n",
      "242/242 [==============================] - 1s 3ms/step - loss: 156328.7849 - val_loss: 121633.2500\n",
      "Epoch 42/100\n",
      "242/242 [==============================] - 1s 6ms/step - loss: 112296.8311 - val_loss: 87384.7734\n",
      "Epoch 43/100\n",
      "242/242 [==============================] - 1s 6ms/step - loss: 80680.1339 - val_loss: 62779.5586\n",
      "Epoch 44/100\n",
      "242/242 [==============================] - 1s 5ms/step - loss: 57967.0698 - val_loss: 45102.5781\n",
      "Epoch 45/100\n",
      "242/242 [==============================] - 0s 2ms/step - loss: 41637.2702 - val_loss: 32402.9668\n",
      "Epoch 46/100\n",
      "242/242 [==============================] - 0s 2ms/step - loss: 29921.2331 - val_loss: 23279.3320\n",
      "Epoch 47/100\n",
      "242/242 [==============================] - 0s 1ms/step - loss: 21492.1241 - val_loss: 16724.7559\n",
      "Epoch 48/100\n",
      "242/242 [==============================] - 0s 2ms/step - loss: 15443.7977 - val_loss: 12015.8438\n",
      "Epoch 49/100\n",
      "242/242 [==============================] - 0s 2ms/step - loss: 11092.8086 - val_loss: 8632.8906\n",
      "Epoch 50/100\n",
      "242/242 [==============================] - 0s 2ms/step - loss: 7969.0889 - val_loss: 6202.5723\n",
      "Epoch 51/100\n",
      "242/242 [==============================] - 0s 2ms/step - loss: 5728.9936 - val_loss: 4456.6650\n",
      "Epoch 52/100\n",
      "242/242 [==============================] - 0s 2ms/step - loss: 4113.7613 - val_loss: 3202.4175\n",
      "Epoch 53/100\n",
      "242/242 [==============================] - 0s 2ms/step - loss: 2957.9782 - val_loss: 2301.4185\n",
      "Epoch 54/100\n",
      "242/242 [==============================] - 0s 2ms/step - loss: 2125.3764 - val_loss: 1654.1661\n",
      "Epoch 55/100\n",
      "242/242 [==============================] - 1s 2ms/step - loss: 1527.2323 - val_loss: 1189.2137\n",
      "Epoch 56/100\n",
      "242/242 [==============================] - 1s 2ms/step - loss: 1097.3939 - val_loss: 855.2176\n",
      "Epoch 57/100\n",
      "242/242 [==============================] - 1s 2ms/step - loss: 788.4700 - val_loss: 615.3060\n",
      "Epoch 58/100\n",
      "242/242 [==============================] - 1s 2ms/step - loss: 567.1687 - val_loss: 442.9767\n",
      "Epoch 59/100\n",
      "242/242 [==============================] - 0s 2ms/step - loss: 408.5559 - val_loss: 319.2076\n",
      "Epoch 60/100\n",
      "242/242 [==============================] - 0s 2ms/step - loss: 293.2850 - val_loss: 230.3074\n",
      "Epoch 61/100\n",
      "242/242 [==============================] - 0s 2ms/step - loss: 211.0475 - val_loss: 166.4608\n",
      "Epoch 62/100\n",
      "242/242 [==============================] - 0s 2ms/step - loss: 151.8056 - val_loss: 120.6086\n",
      "Epoch 63/100\n",
      "242/242 [==============================] - 0s 2ms/step - loss: 109.7309 - val_loss: 87.6852\n",
      "Epoch 64/100\n",
      "242/242 [==============================] - 1s 2ms/step - loss: 79.0999 - val_loss: 64.0432\n",
      "Epoch 65/100\n",
      "242/242 [==============================] - 2s 8ms/step - loss: 57.1533 - val_loss: 47.0717\n",
      "Epoch 66/100\n",
      "242/242 [==============================] - 2s 7ms/step - loss: 41.4793 - val_loss: 34.8874\n",
      "Epoch 67/100\n",
      "242/242 [==============================] - 1s 4ms/step - loss: 30.0204 - val_loss: 26.1417\n",
      "Epoch 68/100\n",
      "242/242 [==============================] - 0s 2ms/step - loss: 22.1111 - val_loss: 19.8659\n",
      "Epoch 69/100\n",
      "242/242 [==============================] - 0s 2ms/step - loss: 16.2336 - val_loss: 15.3636\n",
      "Epoch 70/100\n",
      "242/242 [==============================] - 1s 2ms/step - loss: 12.0153 - val_loss: 12.1337\n",
      "Epoch 71/100\n",
      "242/242 [==============================] - 1s 2ms/step - loss: 9.2948 - val_loss: 9.8182\n",
      "Epoch 72/100\n",
      "242/242 [==============================] - 0s 2ms/step - loss: 6.8147 - val_loss: 8.1575\n",
      "Epoch 73/100\n",
      "242/242 [==============================] - 1s 2ms/step - loss: 5.2495 - val_loss: 6.9675\n",
      "Epoch 74/100\n",
      "242/242 [==============================] - 0s 2ms/step - loss: 4.1896 - val_loss: 6.1153\n",
      "Epoch 75/100\n",
      "242/242 [==============================] - 0s 2ms/step - loss: 3.2625 - val_loss: 5.5050\n",
      "Epoch 76/100\n",
      "242/242 [==============================] - 0s 2ms/step - loss: 2.8381 - val_loss: 5.0687\n",
      "Epoch 77/100\n",
      "242/242 [==============================] - 0s 2ms/step - loss: 2.4510 - val_loss: 4.7570\n",
      "Epoch 78/100\n",
      "242/242 [==============================] - 0s 2ms/step - loss: 2.0588 - val_loss: 4.5341\n",
      "Epoch 79/100\n",
      "242/242 [==============================] - 0s 2ms/step - loss: 1.9000 - val_loss: 4.3752\n",
      "Epoch 80/100\n",
      "242/242 [==============================] - 0s 2ms/step - loss: 1.7628 - val_loss: 4.2621\n",
      "Epoch 81/100\n",
      "242/242 [==============================] - 1s 2ms/step - loss: 1.6711 - val_loss: 4.1818\n",
      "Epoch 82/100\n",
      "242/242 [==============================] - 1s 2ms/step - loss: 1.5596 - val_loss: 4.1247\n",
      "Epoch 83/100\n",
      "242/242 [==============================] - 1s 2ms/step - loss: 1.4629 - val_loss: 4.0843\n",
      "Epoch 84/100\n",
      "242/242 [==============================] - 0s 2ms/step - loss: 1.4860 - val_loss: 4.0558\n",
      "Epoch 85/100\n",
      "242/242 [==============================] - 0s 2ms/step - loss: 1.4351 - val_loss: 4.0357\n",
      "Epoch 86/100\n",
      "242/242 [==============================] - 1s 6ms/step - loss: 1.3974 - val_loss: 4.0216\n",
      "Epoch 87/100\n",
      "242/242 [==============================] - 2s 9ms/step - loss: 1.3940 - val_loss: 4.0118\n",
      "Epoch 88/100\n",
      "242/242 [==============================] - 1s 5ms/step - loss: 1.4281 - val_loss: 4.0050\n",
      "Epoch 89/100\n",
      "242/242 [==============================] - 1s 2ms/step - loss: 1.4121 - val_loss: 4.0004\n",
      "Epoch 90/100\n",
      "242/242 [==============================] - 0s 2ms/step - loss: 1.3323 - val_loss: 3.9972\n",
      "Epoch 91/100\n",
      "242/242 [==============================] - 1s 2ms/step - loss: 1.3292 - val_loss: 3.9951\n",
      "Epoch 92/100\n",
      "242/242 [==============================] - 0s 2ms/step - loss: 1.3622 - val_loss: 3.9937\n",
      "Epoch 93/100\n",
      "242/242 [==============================] - 0s 2ms/step - loss: 1.3968 - val_loss: 3.9928\n",
      "Epoch 94/100\n",
      "242/242 [==============================] - 0s 2ms/step - loss: 1.3595 - val_loss: 3.9923\n",
      "Epoch 95/100\n",
      "242/242 [==============================] - 1s 2ms/step - loss: 1.3457 - val_loss: 3.9920\n",
      "Epoch 96/100\n",
      "242/242 [==============================] - 1s 2ms/step - loss: 1.3680 - val_loss: 3.9919\n",
      "Epoch 97/100\n",
      "242/242 [==============================] - 1s 2ms/step - loss: 1.3164 - val_loss: 3.9918\n",
      "Epoch 98/100\n",
      "242/242 [==============================] - 0s 2ms/step - loss: 1.3617 - val_loss: 3.9918\n",
      "Epoch 99/100\n",
      "242/242 [==============================] - 0s 2ms/step - loss: 1.3427 - val_loss: 3.9919\n",
      "Epoch 100/100\n",
      "242/242 [==============================] - 0s 2ms/step - loss: 1.3357 - val_loss: 3.9920\n",
      "121/121 [==============================] - 0s 1ms/step - loss: 2.7245\n",
      "Epoch 1/100\n",
      "242/242 [==============================] - 1s 3ms/step - loss: nan - val_loss: nan\n",
      "Epoch 2/100\n",
      "242/242 [==============================] - 2s 7ms/step - loss: nan - val_loss: nan\n",
      "Epoch 3/100\n",
      "242/242 [==============================] - 2s 7ms/step - loss: nan - val_loss: nan\n",
      "Epoch 4/100\n",
      "242/242 [==============================] - 1s 4ms/step - loss: nan - val_loss: nan\n",
      "Epoch 5/100\n",
      "242/242 [==============================] - 0s 1ms/step - loss: nan - val_loss: nan\n",
      "Epoch 6/100\n",
      "242/242 [==============================] - 0s 2ms/step - loss: nan - val_loss: nan\n",
      "Epoch 7/100\n",
      "242/242 [==============================] - 0s 2ms/step - loss: nan - val_loss: nan\n",
      "Epoch 8/100\n",
      "242/242 [==============================] - 0s 2ms/step - loss: nan - val_loss: nan\n",
      "Epoch 9/100\n",
      "242/242 [==============================] - 0s 2ms/step - loss: nan - val_loss: nan\n",
      "Epoch 10/100\n",
      "242/242 [==============================] - 0s 1ms/step - loss: nan - val_loss: nan\n",
      "121/121 [==============================] - 0s 965us/step - loss: nan\n",
      "Epoch 1/100\n",
      "242/242 [==============================] - 1s 2ms/step - loss: nan - val_loss: nan\n",
      "Epoch 2/100\n",
      "242/242 [==============================] - 0s 2ms/step - loss: nan - val_loss: nan\n",
      "Epoch 3/100\n",
      "242/242 [==============================] - 0s 2ms/step - loss: nan - val_loss: nan\n",
      "Epoch 4/100\n",
      "242/242 [==============================] - 0s 2ms/step - loss: nan - val_loss: nan\n",
      "Epoch 5/100\n",
      "242/242 [==============================] - 0s 1ms/step - loss: nan - val_loss: nan\n",
      "Epoch 6/100\n",
      "242/242 [==============================] - 0s 2ms/step - loss: nan - val_loss: nan\n",
      "Epoch 7/100\n",
      "242/242 [==============================] - 0s 2ms/step - loss: nan - val_loss: nan\n",
      "Epoch 8/100\n",
      "242/242 [==============================] - 0s 2ms/step - loss: nan - val_loss: nan\n",
      "Epoch 9/100\n",
      "242/242 [==============================] - 1s 2ms/step - loss: nan - val_loss: nan\n",
      "Epoch 10/100\n",
      "242/242 [==============================] - 0s 2ms/step - loss: nan - val_loss: nan\n",
      "121/121 [==============================] - 0s 1ms/step - loss: nan\n",
      "Epoch 1/100\n",
      "242/242 [==============================] - 1s 2ms/step - loss: nan - val_loss: nan    \n",
      "Epoch 2/100\n",
      "242/242 [==============================] - 0s 2ms/step - loss: nan - val_loss: nan\n",
      "Epoch 3/100\n",
      "242/242 [==============================] - 2s 8ms/step - loss: nan - val_loss: nan\n",
      "Epoch 4/100\n",
      "242/242 [==============================] - 1s 6ms/step - loss: nan - val_loss: nan\n",
      "Epoch 5/100\n",
      "242/242 [==============================] - 1s 5ms/step - loss: nan - val_loss: nan\n",
      "Epoch 6/100\n",
      "242/242 [==============================] - 0s 2ms/step - loss: nan - val_loss: nan\n",
      "Epoch 7/100\n",
      "242/242 [==============================] - 0s 2ms/step - loss: nan - val_loss: nan\n",
      "Epoch 8/100\n",
      "242/242 [==============================] - 0s 2ms/step - loss: nan - val_loss: nan\n",
      "Epoch 9/100\n",
      "242/242 [==============================] - 1s 2ms/step - loss: nan - val_loss: nan\n",
      "Epoch 10/100\n",
      "242/242 [==============================] - 0s 2ms/step - loss: nan - val_loss: nan\n",
      "121/121 [==============================] - 0s 970us/step - loss: nan\n",
      "Epoch 1/100\n",
      "242/242 [==============================] - 1s 2ms/step - loss: nan - val_loss: nan\n",
      "Epoch 2/100\n",
      "242/242 [==============================] - 0s 1ms/step - loss: nan - val_loss: nan\n",
      "Epoch 3/100\n",
      "242/242 [==============================] - 0s 2ms/step - loss: nan - val_loss: nan\n",
      "Epoch 4/100\n",
      "242/242 [==============================] - 0s 2ms/step - loss: nan - val_loss: nan\n",
      "Epoch 5/100\n",
      "242/242 [==============================] - 0s 2ms/step - loss: nan - val_loss: nan\n",
      "Epoch 6/100\n",
      "242/242 [==============================] - 0s 2ms/step - loss: nan - val_loss: nan\n",
      "Epoch 7/100\n",
      "242/242 [==============================] - 0s 2ms/step - loss: nan - val_loss: nan\n",
      "Epoch 8/100\n",
      "242/242 [==============================] - 0s 2ms/step - loss: nan - val_loss: nan\n",
      "Epoch 9/100\n",
      "242/242 [==============================] - 0s 2ms/step - loss: nan - val_loss: nan\n",
      "Epoch 10/100\n",
      "242/242 [==============================] - 2s 7ms/step - loss: nan - val_loss: nan\n",
      "121/121 [==============================] - 1s 4ms/step - loss: nan\n",
      "Epoch 1/100\n",
      "242/242 [==============================] - 2s 3ms/step - loss: nan - val_loss: nan\n",
      "Epoch 2/100\n",
      "242/242 [==============================] - 0s 2ms/step - loss: nan - val_loss: nan\n",
      "Epoch 3/100\n",
      "242/242 [==============================] - 0s 2ms/step - loss: nan - val_loss: nan\n",
      "Epoch 4/100\n",
      "242/242 [==============================] - 0s 2ms/step - loss: nan - val_loss: nan\n",
      "Epoch 5/100\n",
      "242/242 [==============================] - 0s 2ms/step - loss: nan - val_loss: nan\n",
      "Epoch 6/100\n",
      "242/242 [==============================] - 0s 2ms/step - loss: nan - val_loss: nan\n",
      "Epoch 7/100\n",
      "242/242 [==============================] - 0s 2ms/step - loss: nan - val_loss: nan\n",
      "Epoch 8/100\n",
      "242/242 [==============================] - 0s 2ms/step - loss: nan - val_loss: nan\n",
      "Epoch 9/100\n",
      "242/242 [==============================] - 0s 2ms/step - loss: nan - val_loss: nan\n",
      "Epoch 10/100\n",
      "242/242 [==============================] - 0s 1ms/step - loss: nan - val_loss: nan\n",
      "121/121 [==============================] - 0s 930us/step - loss: nan\n",
      "Epoch 1/100\n",
      "242/242 [==============================] - 1s 2ms/step - loss: nan - val_loss: nan\n",
      "Epoch 2/100\n",
      "242/242 [==============================] - 0s 2ms/step - loss: nan - val_loss: nan\n",
      "Epoch 3/100\n",
      "242/242 [==============================] - 0s 2ms/step - loss: nan - val_loss: nan\n",
      "Epoch 4/100\n",
      "242/242 [==============================] - 0s 2ms/step - loss: nan - val_loss: nan\n",
      "Epoch 5/100\n",
      "242/242 [==============================] - 0s 1ms/step - loss: nan - val_loss: nan\n",
      "Epoch 6/100\n"
     ]
    },
    {
     "name": "stdout",
     "output_type": "stream",
     "text": [
      "242/242 [==============================] - 0s 1ms/step - loss: nan - val_loss: nan\n",
      "Epoch 7/100\n",
      "242/242 [==============================] - 1s 3ms/step - loss: nan - val_loss: nan\n",
      "Epoch 8/100\n",
      "242/242 [==============================] - 1s 6ms/step - loss: nan - val_loss: nan\n",
      "Epoch 9/100\n",
      "242/242 [==============================] - 1s 6ms/step - loss: nan - val_loss: nan\n",
      "Epoch 10/100\n",
      "242/242 [==============================] - 1s 5ms/step - loss: nan - val_loss: nan\n",
      "121/121 [==============================] - 0s 836us/step - loss: nan\n",
      "Epoch 1/100\n",
      "242/242 [==============================] - 1s 2ms/step - loss: nan - val_loss: nan\n",
      "Epoch 2/100\n",
      "242/242 [==============================] - 0s 1ms/step - loss: nan - val_loss: nan\n",
      "Epoch 3/100\n",
      "242/242 [==============================] - 0s 1ms/step - loss: nan - val_loss: nan\n",
      "Epoch 4/100\n",
      "242/242 [==============================] - 0s 2ms/step - loss: nan - val_loss: nan\n",
      "Epoch 5/100\n",
      "242/242 [==============================] - 0s 2ms/step - loss: nan - val_loss: nan\n",
      "Epoch 6/100\n",
      "242/242 [==============================] - 0s 1ms/step - loss: nan - val_loss: nan\n",
      "Epoch 7/100\n",
      "242/242 [==============================] - 0s 1ms/step - loss: nan - val_loss: nan\n",
      "Epoch 8/100\n",
      "242/242 [==============================] - 0s 1ms/step - loss: nan - val_loss: nan\n",
      "Epoch 9/100\n",
      "242/242 [==============================] - 0s 2ms/step - loss: nan - val_loss: nan\n",
      "Epoch 10/100\n",
      "242/242 [==============================] - 0s 1ms/step - loss: nan - val_loss: nan\n",
      "121/121 [==============================] - 0s 886us/step - loss: nan\n",
      "Epoch 1/100\n",
      "242/242 [==============================] - 1s 2ms/step - loss: nan - val_loss: nan\n",
      "Epoch 2/100\n",
      "242/242 [==============================] - 0s 1ms/step - loss: nan - val_loss: nan\n",
      "Epoch 3/100\n",
      "242/242 [==============================] - 0s 1ms/step - loss: nan - val_loss: nan\n",
      "Epoch 4/100\n",
      "242/242 [==============================] - 0s 1ms/step - loss: nan - val_loss: nan\n",
      "Epoch 5/100\n",
      "242/242 [==============================] - 0s 1ms/step - loss: nan - val_loss: nan\n",
      "Epoch 6/100\n",
      "242/242 [==============================] - 0s 1ms/step - loss: nan - val_loss: nan\n",
      "Epoch 7/100\n",
      "242/242 [==============================] - 0s 1ms/step - loss: nan - val_loss: nan\n",
      "Epoch 8/100\n",
      "242/242 [==============================] - 0s 1ms/step - loss: nan - val_loss: nan\n",
      "Epoch 9/100\n",
      "242/242 [==============================] - 0s 2ms/step - loss: nan - val_loss: nan\n",
      "Epoch 10/100\n",
      "242/242 [==============================] - 0s 2ms/step - loss: nan - val_loss: nan\n",
      "121/121 [==============================] - 0s 705us/step - loss: nan\n",
      "Epoch 1/100\n",
      "242/242 [==============================] - 3s 9ms/step - loss: nan - val_loss: nan\n",
      "Epoch 2/100\n",
      "242/242 [==============================] - 1s 4ms/step - loss: nan - val_loss: nan\n",
      "Epoch 3/100\n",
      "242/242 [==============================] - 0s 1ms/step - loss: nan - val_loss: nan\n",
      "Epoch 4/100\n",
      "242/242 [==============================] - 0s 1ms/step - loss: nan - val_loss: nan\n",
      "Epoch 5/100\n",
      "242/242 [==============================] - 0s 2ms/step - loss: nan - val_loss: nan\n",
      "Epoch 6/100\n",
      "242/242 [==============================] - 0s 2ms/step - loss: nan - val_loss: nan\n",
      "Epoch 7/100\n",
      "242/242 [==============================] - 1s 2ms/step - loss: nan - val_loss: nan\n",
      "Epoch 8/100\n",
      "242/242 [==============================] - 0s 2ms/step - loss: nan - val_loss: nan\n",
      "Epoch 9/100\n",
      "242/242 [==============================] - 0s 2ms/step - loss: nan - val_loss: nan\n",
      "Epoch 10/100\n",
      "242/242 [==============================] - 0s 2ms/step - loss: nan - val_loss: nan\n",
      "121/121 [==============================] - 0s 1ms/step - loss: nan\n",
      "Epoch 1/100\n",
      "242/242 [==============================] - 2s 3ms/step - loss: nan - val_loss: nan\n",
      "Epoch 2/100\n",
      "242/242 [==============================] - 0s 2ms/step - loss: nan - val_loss: nan\n",
      "Epoch 3/100\n",
      "242/242 [==============================] - 0s 2ms/step - loss: nan - val_loss: nan\n",
      "Epoch 4/100\n",
      "242/242 [==============================] - 0s 2ms/step - loss: nan - val_loss: nan\n",
      "Epoch 5/100\n",
      "242/242 [==============================] - 0s 2ms/step - loss: nan - val_loss: nan\n",
      "Epoch 6/100\n",
      "242/242 [==============================] - 0s 2ms/step - loss: nan - val_loss: nan\n",
      "Epoch 7/100\n",
      "242/242 [==============================] - 0s 2ms/step - loss: nan - val_loss: nan\n",
      "Epoch 8/100\n",
      "242/242 [==============================] - 0s 2ms/step - loss: nan - val_loss: nan\n",
      "Epoch 9/100\n",
      "242/242 [==============================] - 1s 3ms/step - loss: nan - val_loss: nan\n",
      "Epoch 10/100\n",
      "242/242 [==============================] - 2s 7ms/step - loss: nan - val_loss: nan\n",
      "121/121 [==============================] - 1s 5ms/step - loss: nan\n",
      "Epoch 1/100\n",
      "242/242 [==============================] - 2s 2ms/step - loss: nan - val_loss: nan\n",
      "Epoch 2/100\n",
      "242/242 [==============================] - 0s 2ms/step - loss: nan - val_loss: nan\n",
      "Epoch 3/100\n",
      "242/242 [==============================] - 0s 2ms/step - loss: nan - val_loss: nan\n",
      "Epoch 4/100\n",
      "242/242 [==============================] - 0s 2ms/step - loss: nan - val_loss: nan\n",
      "Epoch 5/100\n",
      "242/242 [==============================] - 0s 2ms/step - loss: nan - val_loss: nan\n",
      "Epoch 6/100\n",
      "242/242 [==============================] - 0s 2ms/step - loss: nan - val_loss: nan\n",
      "Epoch 7/100\n",
      "242/242 [==============================] - 0s 2ms/step - loss: nan - val_loss: nan\n",
      "Epoch 8/100\n",
      "242/242 [==============================] - 0s 2ms/step - loss: nan - val_loss: nan\n",
      "Epoch 9/100\n",
      "242/242 [==============================] - 0s 2ms/step - loss: nan - val_loss: nan\n",
      "Epoch 10/100\n",
      "242/242 [==============================] - 0s 2ms/step - loss: nan - val_loss: nan\n",
      "121/121 [==============================] - 0s 966us/step - loss: nan\n",
      "Epoch 1/100\n",
      "242/242 [==============================] - 1s 2ms/step - loss: nan - val_loss: nan\n",
      "Epoch 2/100\n",
      "242/242 [==============================] - 0s 2ms/step - loss: nan - val_loss: nan\n",
      "Epoch 3/100\n",
      "242/242 [==============================] - 0s 2ms/step - loss: nan - val_loss: nan\n",
      "Epoch 4/100\n",
      "242/242 [==============================] - 0s 2ms/step - loss: nan - val_loss: nan\n",
      "Epoch 5/100\n",
      "242/242 [==============================] - 1s 3ms/step - loss: nan - val_loss: nan\n",
      "Epoch 6/100\n",
      "242/242 [==============================] - 2s 6ms/step - loss: nan - val_loss: nan\n",
      "Epoch 7/100\n",
      "242/242 [==============================] - 1s 6ms/step - loss: nan - val_loss: nan\n",
      "Epoch 8/100\n",
      "242/242 [==============================] - 1s 5ms/step - loss: nan - val_loss: nan\n",
      "Epoch 9/100\n",
      "242/242 [==============================] - 0s 2ms/step - loss: nan - val_loss: nan\n",
      "Epoch 10/100\n",
      "242/242 [==============================] - 0s 2ms/step - loss: nan - val_loss: nan\n",
      "121/121 [==============================] - 0s 1ms/step - loss: nan\n",
      "Epoch 1/100\n",
      "242/242 [==============================] - 1s 2ms/step - loss: nan - val_loss: nan\n",
      "Epoch 2/100\n",
      "242/242 [==============================] - 0s 2ms/step - loss: nan - val_loss: nan\n",
      "Epoch 3/100\n",
      "242/242 [==============================] - 0s 1ms/step - loss: nan - val_loss: nan\n",
      "Epoch 4/100\n",
      "242/242 [==============================] - 0s 2ms/step - loss: nan - val_loss: nan\n",
      "Epoch 5/100\n",
      "242/242 [==============================] - 0s 2ms/step - loss: nan - val_loss: nan\n",
      "Epoch 6/100\n",
      "242/242 [==============================] - 0s 1ms/step - loss: nan - val_loss: nan\n",
      "Epoch 7/100\n",
      "242/242 [==============================] - 0s 1ms/step - loss: nan - val_loss: nan\n",
      "Epoch 8/100\n",
      "242/242 [==============================] - 0s 2ms/step - loss: nan - val_loss: nan\n",
      "Epoch 9/100\n",
      "242/242 [==============================] - 0s 2ms/step - loss: nan - val_loss: nan\n",
      "Epoch 10/100\n",
      "242/242 [==============================] - 0s 2ms/step - loss: nan - val_loss: nan\n",
      "121/121 [==============================] - 0s 927us/step - loss: nan\n",
      "Epoch 1/100\n",
      "242/242 [==============================] - 1s 2ms/step - loss: nan - val_loss: nan\n",
      "Epoch 2/100\n",
      "242/242 [==============================] - 0s 2ms/step - loss: nan - val_loss: nan\n",
      "Epoch 3/100\n",
      "242/242 [==============================] - 1s 5ms/step - loss: nan - val_loss: nan\n",
      "Epoch 4/100\n",
      "242/242 [==============================] - 1s 6ms/step - loss: nan - val_loss: nan\n",
      "Epoch 5/100\n",
      "242/242 [==============================] - 2s 7ms/step - loss: nan - val_loss: nan\n",
      "Epoch 6/100\n",
      "242/242 [==============================] - 1s 2ms/step - loss: nan - val_loss: nan\n",
      "Epoch 7/100\n",
      "242/242 [==============================] - 0s 2ms/step - loss: nan - val_loss: nan\n",
      "Epoch 8/100\n",
      "242/242 [==============================] - 0s 2ms/step - loss: nan - val_loss: nan\n",
      "Epoch 9/100\n",
      "242/242 [==============================] - 0s 2ms/step - loss: nan - val_loss: nan\n",
      "Epoch 10/100\n",
      "242/242 [==============================] - 0s 2ms/step - loss: nan - val_loss: nan\n",
      "121/121 [==============================] - 0s 836us/step - loss: nan\n",
      "Epoch 1/100\n",
      "242/242 [==============================] - 1s 2ms/step - loss: nan - val_loss: nan\n",
      "Epoch 2/100\n",
      "242/242 [==============================] - 0s 2ms/step - loss: nan - val_loss: nan\n",
      "Epoch 3/100\n",
      "242/242 [==============================] - 0s 2ms/step - loss: nan - val_loss: nan\n",
      "Epoch 4/100\n",
      "242/242 [==============================] - 0s 1ms/step - loss: nan - val_loss: nan\n",
      "Epoch 5/100\n",
      "242/242 [==============================] - 0s 2ms/step - loss: nan - val_loss: nan\n",
      "Epoch 6/100\n",
      "242/242 [==============================] - 0s 2ms/step - loss: nan - val_loss: nan\n",
      "Epoch 7/100\n",
      "242/242 [==============================] - 0s 2ms/step - loss: nan - val_loss: nan\n",
      "Epoch 8/100\n",
      "242/242 [==============================] - 0s 2ms/step - loss: nan - val_loss: nan\n",
      "Epoch 9/100\n",
      "242/242 [==============================] - 0s 1ms/step - loss: nan - val_loss: nan\n",
      "Epoch 10/100\n",
      "242/242 [==============================] - 0s 1ms/step - loss: nan - val_loss: nan\n",
      "121/121 [==============================] - 0s 836us/step - loss: nan\n",
      "Epoch 1/100\n",
      "242/242 [==============================] - 1s 5ms/step - loss: nan - val_loss: nan\n",
      "Epoch 2/100\n",
      "242/242 [==============================] - 1s 6ms/step - loss: nan - val_loss: nan\n",
      "Epoch 3/100\n",
      "242/242 [==============================] - 1s 5ms/step - loss: nan - val_loss: nan\n",
      "Epoch 4/100\n",
      "242/242 [==============================] - 1s 4ms/step - loss: nan - val_loss: nan\n",
      "Epoch 5/100\n",
      "242/242 [==============================] - 0s 1ms/step - loss: nan - val_loss: nan\n",
      "Epoch 6/100\n",
      "242/242 [==============================] - 0s 1ms/step - loss: nan - val_loss: nan\n",
      "Epoch 7/100\n",
      "242/242 [==============================] - 0s 1ms/step - loss: nan - val_loss: nan\n",
      "Epoch 8/100\n",
      "242/242 [==============================] - 0s 2ms/step - loss: nan - val_loss: nan\n",
      "Epoch 9/100\n",
      "242/242 [==============================] - 0s 1ms/step - loss: nan - val_loss: nan\n",
      "Epoch 10/100\n",
      "242/242 [==============================] - 0s 1ms/step - loss: nan - val_loss: nan\n",
      "121/121 [==============================] - 0s 836us/step - loss: nan\n",
      "Epoch 1/100\n",
      "242/242 [==============================] - 1s 2ms/step - loss: nan - val_loss: nan\n",
      "Epoch 2/100\n",
      "242/242 [==============================] - 0s 1ms/step - loss: nan - val_loss: nan\n",
      "Epoch 3/100\n",
      "242/242 [==============================] - 0s 1ms/step - loss: nan - val_loss: nan\n",
      "Epoch 4/100\n",
      "242/242 [==============================] - 0s 1ms/step - loss: nan - val_loss: nan\n",
      "Epoch 5/100\n",
      "242/242 [==============================] - 0s 1ms/step - loss: nan - val_loss: nan\n",
      "Epoch 6/100\n",
      "242/242 [==============================] - 0s 1ms/step - loss: nan - val_loss: nan\n",
      "Epoch 7/100\n",
      "242/242 [==============================] - 0s 1ms/step - loss: nan - val_loss: nan\n",
      "Epoch 8/100\n",
      "242/242 [==============================] - 0s 1ms/step - loss: nan - val_loss: nan\n",
      "Epoch 9/100\n",
      "242/242 [==============================] - 0s 2ms/step - loss: nan - val_loss: nan\n",
      "Epoch 10/100\n",
      "242/242 [==============================] - 0s 1ms/step - loss: nan - val_loss: nan\n",
      "121/121 [==============================] - 0s 769us/step - loss: nan\n",
      "Epoch 1/100\n",
      "242/242 [==============================] - 1s 2ms/step - loss: nan - val_loss: nan\n",
      "Epoch 2/100\n",
      "242/242 [==============================] - 0s 1ms/step - loss: nan - val_loss: nan\n",
      "Epoch 3/100\n",
      "242/242 [==============================] - 0s 1ms/step - loss: nan - val_loss: nan\n",
      "Epoch 4/100\n",
      "242/242 [==============================] - 0s 1ms/step - loss: nan - val_loss: nan\n",
      "Epoch 5/100\n",
      "242/242 [==============================] - 0s 2ms/step - loss: nan - val_loss: nan\n",
      "Epoch 6/100\n",
      "242/242 [==============================] - 1s 6ms/step - loss: nan - val_loss: nan\n",
      "Epoch 7/100\n",
      "242/242 [==============================] - 1s 6ms/step - loss: nan - val_loss: nan\n",
      "Epoch 8/100\n",
      "242/242 [==============================] - 1s 5ms/step - loss: nan - val_loss: nan\n",
      "Epoch 9/100\n",
      "242/242 [==============================] - 1s 3ms/step - loss: nan - val_loss: nan\n",
      "Epoch 10/100\n",
      "242/242 [==============================] - 0s 1ms/step - loss: nan - val_loss: nan\n",
      "121/121 [==============================] - 0s 705us/step - loss: nan\n",
      "Epoch 1/100\n",
      "242/242 [==============================] - 1s 2ms/step - loss: nan - val_loss: nan\n",
      "Epoch 2/100\n",
      "242/242 [==============================] - 0s 2ms/step - loss: nan - val_loss: nan\n",
      "Epoch 3/100\n",
      "242/242 [==============================] - 0s 2ms/step - loss: nan - val_loss: nan\n",
      "Epoch 4/100\n",
      "242/242 [==============================] - 0s 2ms/step - loss: nan - val_loss: nan\n",
      "Epoch 5/100\n",
      "242/242 [==============================] - 0s 2ms/step - loss: nan - val_loss: nan\n",
      "Epoch 6/100\n",
      "242/242 [==============================] - 0s 2ms/step - loss: nan - val_loss: nan\n",
      "Epoch 7/100\n",
      "242/242 [==============================] - 0s 2ms/step - loss: nan - val_loss: nan\n",
      "Epoch 8/100\n",
      "242/242 [==============================] - 0s 2ms/step - loss: nan - val_loss: nan\n",
      "Epoch 9/100\n",
      "242/242 [==============================] - 0s 2ms/step - loss: nan - val_loss: nan\n",
      "Epoch 10/100\n",
      "242/242 [==============================] - 0s 2ms/step - loss: nan - val_loss: nan\n",
      "121/121 [==============================] - 0s 970us/step - loss: nan\n",
      "Epoch 1/100\n",
      "242/242 [==============================] - 1s 2ms/step - loss: nan - val_loss: nan\n",
      "Epoch 2/100\n",
      "242/242 [==============================] - 0s 2ms/step - loss: nan - val_loss: nan\n",
      "Epoch 3/100\n",
      "242/242 [==============================] - 0s 2ms/step - loss: nan - val_loss: nan\n",
      "Epoch 4/100\n",
      "242/242 [==============================] - 0s 2ms/step - loss: nan - val_loss: nan\n",
      "Epoch 5/100\n",
      "242/242 [==============================] - 0s 2ms/step - loss: nan - val_loss: nan\n",
      "Epoch 6/100\n",
      "242/242 [==============================] - 2s 6ms/step - loss: nan - val_loss: nan\n",
      "Epoch 7/100\n",
      "242/242 [==============================] - 2s 7ms/step - loss: nan - val_loss: nan\n",
      "Epoch 8/100\n",
      "242/242 [==============================] - 2s 6ms/step - loss: nan - val_loss: nan\n",
      "Epoch 9/100\n",
      "242/242 [==============================] - 0s 2ms/step - loss: nan - val_loss: nan\n",
      "Epoch 10/100\n",
      "242/242 [==============================] - 0s 2ms/step - loss: nan - val_loss: nan\n",
      "121/121 [==============================] - 0s 1ms/step - loss: nan\n",
      "Epoch 1/100\n",
      "242/242 [==============================] - 1s 2ms/step - loss: nan - val_loss: nan\n",
      "Epoch 2/100\n",
      "242/242 [==============================] - 0s 2ms/step - loss: nan - val_loss: nan\n",
      "Epoch 3/100\n",
      "242/242 [==============================] - 0s 2ms/step - loss: nan - val_loss: nan\n",
      "Epoch 4/100\n",
      "242/242 [==============================] - 0s 2ms/step - loss: nan - val_loss: nan\n",
      "Epoch 5/100\n",
      "242/242 [==============================] - 0s 2ms/step - loss: nan - val_loss: nan\n",
      "Epoch 6/100\n",
      "242/242 [==============================] - 0s 2ms/step - loss: nan - val_loss: nan\n",
      "Epoch 7/100\n",
      "242/242 [==============================] - 0s 2ms/step - loss: nan - val_loss: nan\n",
      "Epoch 8/100\n",
      "242/242 [==============================] - 0s 2ms/step - loss: nan - val_loss: nan\n",
      "Epoch 9/100\n",
      "242/242 [==============================] - 0s 2ms/step - loss: nan - val_loss: nan\n",
      "Epoch 10/100\n",
      "242/242 [==============================] - 0s 2ms/step - loss: nan - val_loss: nan\n",
      "121/121 [==============================] - 0s 907us/step - loss: nan\n",
      "Epoch 1/100\n",
      "242/242 [==============================] - 1s 2ms/step - loss: nan - val_loss: nan\n",
      "Epoch 2/100\n",
      "242/242 [==============================] - 1s 3ms/step - loss: nan - val_loss: nan\n",
      "Epoch 3/100\n",
      "242/242 [==============================] - 2s 7ms/step - loss: nan - val_loss: nan\n",
      "Epoch 4/100\n",
      "242/242 [==============================] - 2s 7ms/step - loss: nan - val_loss: nan\n",
      "Epoch 5/100\n",
      "242/242 [==============================] - 1s 4ms/step - loss: nan - val_loss: nan\n",
      "Epoch 6/100\n"
     ]
    },
    {
     "name": "stdout",
     "output_type": "stream",
     "text": [
      "242/242 [==============================] - 0s 2ms/step - loss: nan - val_loss: nan\n",
      "Epoch 7/100\n",
      "242/242 [==============================] - 0s 2ms/step - loss: nan - val_loss: nan\n",
      "Epoch 8/100\n",
      "242/242 [==============================] - 0s 2ms/step - loss: nan - val_loss: nan\n",
      "Epoch 9/100\n",
      "242/242 [==============================] - 0s 1ms/step - loss: nan - val_loss: nan\n",
      "Epoch 10/100\n",
      "242/242 [==============================] - 0s 2ms/step - loss: nan - val_loss: nan\n",
      "121/121 [==============================] - 0s 926us/step - loss: nan\n",
      "Epoch 1/100\n",
      "242/242 [==============================] - 1s 2ms/step - loss: nan - val_loss: nan\n",
      "Epoch 2/100\n",
      "242/242 [==============================] - 0s 1ms/step - loss: nan - val_loss: nan\n",
      "Epoch 3/100\n",
      "242/242 [==============================] - 0s 2ms/step - loss: nan - val_loss: nan\n",
      "Epoch 4/100\n",
      "242/242 [==============================] - 0s 2ms/step - loss: nan - val_loss: nan\n",
      "Epoch 5/100\n",
      "242/242 [==============================] - ETA: 0s - loss: n - 0s 2ms/step - loss: nan - val_loss: nan\n",
      "Epoch 6/100\n",
      "242/242 [==============================] - 0s 1ms/step - loss: nan - val_loss: nan\n",
      "Epoch 7/100\n",
      "242/242 [==============================] - 0s 1ms/step - loss: nan - val_loss: nan\n",
      "Epoch 8/100\n",
      "242/242 [==============================] - 0s 2ms/step - loss: nan - val_loss: nan\n",
      "Epoch 9/100\n",
      "242/242 [==============================] - 0s 2ms/step - loss: nan - val_loss: nan\n",
      "Epoch 10/100\n",
      "242/242 [==============================] - 0s 2ms/step - loss: nan - val_loss: nan\n",
      "121/121 [==============================] - 0s 835us/step - loss: nan\n",
      "Epoch 1/100\n",
      "242/242 [==============================] - 2s 7ms/step - loss: nan - val_loss: nan\n",
      "Epoch 2/100\n",
      "242/242 [==============================] - 1s 6ms/step - loss: nan - val_loss: nan\n",
      "Epoch 3/100\n",
      "242/242 [==============================] - 2s 7ms/step - loss: nan - val_loss: nan\n",
      "Epoch 4/100\n",
      "242/242 [==============================] - 1s 2ms/step - loss: nan - val_loss: nan\n",
      "Epoch 5/100\n",
      "242/242 [==============================] - 1s 2ms/step - loss: nan - val_loss: nan\n",
      "Epoch 6/100\n",
      "242/242 [==============================] - 1s 2ms/step - loss: nan - val_loss: nan\n",
      "Epoch 7/100\n",
      "242/242 [==============================] - 1s 2ms/step - loss: nan - val_loss: nan\n",
      "Epoch 8/100\n",
      "242/242 [==============================] - 0s 2ms/step - loss: nan - val_loss: nan\n",
      "Epoch 9/100\n",
      "242/242 [==============================] - 0s 2ms/step - loss: nan - val_loss: nan\n",
      "Epoch 10/100\n",
      "242/242 [==============================] - 0s 2ms/step - loss: nan - val_loss: nan\n",
      "121/121 [==============================] - 0s 1ms/step - loss: nan\n"
     ]
    },
    {
     "name": "stderr",
     "output_type": "stream",
     "text": [
      "C:\\Users\\Federico\\AppData\\Local\\Packages\\PythonSoftwareFoundation.Python.3.8_qbz5n2kfra8p0\\LocalCache\\local-packages\\Python38\\site-packages\\sklearn\\model_selection\\_search.py:918: UserWarning: One or more of the test scores are non-finite: [nan nan nan nan nan nan nan nan nan nan]\n",
      "  warnings.warn(\n"
     ]
    },
    {
     "ename": "RuntimeError",
     "evalue": "Cannot clone object <tensorflow.python.keras.wrappers.scikit_learn.KerasRegressor object at 0x000002BFF29CA5B0>, as the constructor either does not set or modifies parameter learning_rate",
     "output_type": "error",
     "traceback": [
      "\u001b[1;31m---------------------------------------------------------------------------\u001b[0m",
      "\u001b[1;31mRuntimeError\u001b[0m                              Traceback (most recent call last)",
      "\u001b[1;32m<ipython-input-23-a5dab8d54854>\u001b[0m in \u001b[0;36m<module>\u001b[1;34m\u001b[0m\n\u001b[0;32m      9\u001b[0m \u001b[1;33m\u001b[0m\u001b[0m\n\u001b[0;32m     10\u001b[0m \u001b[0mrnd_search_cv\u001b[0m \u001b[1;33m=\u001b[0m \u001b[0mRandomizedSearchCV\u001b[0m\u001b[1;33m(\u001b[0m\u001b[0mkeras_reg\u001b[0m\u001b[1;33m,\u001b[0m \u001b[0mparam_distribs\u001b[0m\u001b[1;33m,\u001b[0m \u001b[0mn_iter\u001b[0m\u001b[1;33m=\u001b[0m\u001b[1;36m10\u001b[0m\u001b[1;33m,\u001b[0m \u001b[0mcv\u001b[0m\u001b[1;33m=\u001b[0m\u001b[1;36m3\u001b[0m\u001b[1;33m)\u001b[0m\u001b[1;33m\u001b[0m\u001b[1;33m\u001b[0m\u001b[0m\n\u001b[1;32m---> 11\u001b[1;33m rnd_search_cv.fit(X_train, y_train, epochs=100, \n\u001b[0m\u001b[0;32m     12\u001b[0m                   \u001b[0mvalidation_data\u001b[0m\u001b[1;33m=\u001b[0m\u001b[1;33m(\u001b[0m\u001b[0mX_valid\u001b[0m\u001b[1;33m,\u001b[0m \u001b[0my_valid\u001b[0m\u001b[1;33m)\u001b[0m\u001b[1;33m,\u001b[0m\u001b[1;33m\u001b[0m\u001b[1;33m\u001b[0m\u001b[0m\n\u001b[0;32m     13\u001b[0m                   callbacks=[keras.callbacks.EarlyStopping(patience=10)])\n",
      "\u001b[1;32m~\\AppData\\Local\\Packages\\PythonSoftwareFoundation.Python.3.8_qbz5n2kfra8p0\\LocalCache\\local-packages\\Python38\\site-packages\\sklearn\\utils\\validation.py\u001b[0m in \u001b[0;36minner_f\u001b[1;34m(*args, **kwargs)\u001b[0m\n\u001b[0;32m     61\u001b[0m             \u001b[0mextra_args\u001b[0m \u001b[1;33m=\u001b[0m \u001b[0mlen\u001b[0m\u001b[1;33m(\u001b[0m\u001b[0margs\u001b[0m\u001b[1;33m)\u001b[0m \u001b[1;33m-\u001b[0m \u001b[0mlen\u001b[0m\u001b[1;33m(\u001b[0m\u001b[0mall_args\u001b[0m\u001b[1;33m)\u001b[0m\u001b[1;33m\u001b[0m\u001b[1;33m\u001b[0m\u001b[0m\n\u001b[0;32m     62\u001b[0m             \u001b[1;32mif\u001b[0m \u001b[0mextra_args\u001b[0m \u001b[1;33m<=\u001b[0m \u001b[1;36m0\u001b[0m\u001b[1;33m:\u001b[0m\u001b[1;33m\u001b[0m\u001b[1;33m\u001b[0m\u001b[0m\n\u001b[1;32m---> 63\u001b[1;33m                 \u001b[1;32mreturn\u001b[0m \u001b[0mf\u001b[0m\u001b[1;33m(\u001b[0m\u001b[1;33m*\u001b[0m\u001b[0margs\u001b[0m\u001b[1;33m,\u001b[0m \u001b[1;33m**\u001b[0m\u001b[0mkwargs\u001b[0m\u001b[1;33m)\u001b[0m\u001b[1;33m\u001b[0m\u001b[1;33m\u001b[0m\u001b[0m\n\u001b[0m\u001b[0;32m     64\u001b[0m \u001b[1;33m\u001b[0m\u001b[0m\n\u001b[0;32m     65\u001b[0m             \u001b[1;31m# extra_args > 0\u001b[0m\u001b[1;33m\u001b[0m\u001b[1;33m\u001b[0m\u001b[1;33m\u001b[0m\u001b[0m\n",
      "\u001b[1;32m~\\AppData\\Local\\Packages\\PythonSoftwareFoundation.Python.3.8_qbz5n2kfra8p0\\LocalCache\\local-packages\\Python38\\site-packages\\sklearn\\model_selection\\_search.py\u001b[0m in \u001b[0;36mfit\u001b[1;34m(self, X, y, groups, **fit_params)\u001b[0m\n\u001b[0;32m    874\u001b[0m             \u001b[1;31m# we clone again after setting params in case some\u001b[0m\u001b[1;33m\u001b[0m\u001b[1;33m\u001b[0m\u001b[1;33m\u001b[0m\u001b[0m\n\u001b[0;32m    875\u001b[0m             \u001b[1;31m# of the params are estimators as well.\u001b[0m\u001b[1;33m\u001b[0m\u001b[1;33m\u001b[0m\u001b[1;33m\u001b[0m\u001b[0m\n\u001b[1;32m--> 876\u001b[1;33m             self.best_estimator_ = clone(clone(base_estimator).set_params(\n\u001b[0m\u001b[0;32m    877\u001b[0m                 **self.best_params_))\n\u001b[0;32m    878\u001b[0m             \u001b[0mrefit_start_time\u001b[0m \u001b[1;33m=\u001b[0m \u001b[0mtime\u001b[0m\u001b[1;33m.\u001b[0m\u001b[0mtime\u001b[0m\u001b[1;33m(\u001b[0m\u001b[1;33m)\u001b[0m\u001b[1;33m\u001b[0m\u001b[1;33m\u001b[0m\u001b[0m\n",
      "\u001b[1;32m~\\AppData\\Local\\Packages\\PythonSoftwareFoundation.Python.3.8_qbz5n2kfra8p0\\LocalCache\\local-packages\\Python38\\site-packages\\sklearn\\utils\\validation.py\u001b[0m in \u001b[0;36minner_f\u001b[1;34m(*args, **kwargs)\u001b[0m\n\u001b[0;32m     61\u001b[0m             \u001b[0mextra_args\u001b[0m \u001b[1;33m=\u001b[0m \u001b[0mlen\u001b[0m\u001b[1;33m(\u001b[0m\u001b[0margs\u001b[0m\u001b[1;33m)\u001b[0m \u001b[1;33m-\u001b[0m \u001b[0mlen\u001b[0m\u001b[1;33m(\u001b[0m\u001b[0mall_args\u001b[0m\u001b[1;33m)\u001b[0m\u001b[1;33m\u001b[0m\u001b[1;33m\u001b[0m\u001b[0m\n\u001b[0;32m     62\u001b[0m             \u001b[1;32mif\u001b[0m \u001b[0mextra_args\u001b[0m \u001b[1;33m<=\u001b[0m \u001b[1;36m0\u001b[0m\u001b[1;33m:\u001b[0m\u001b[1;33m\u001b[0m\u001b[1;33m\u001b[0m\u001b[0m\n\u001b[1;32m---> 63\u001b[1;33m                 \u001b[1;32mreturn\u001b[0m \u001b[0mf\u001b[0m\u001b[1;33m(\u001b[0m\u001b[1;33m*\u001b[0m\u001b[0margs\u001b[0m\u001b[1;33m,\u001b[0m \u001b[1;33m**\u001b[0m\u001b[0mkwargs\u001b[0m\u001b[1;33m)\u001b[0m\u001b[1;33m\u001b[0m\u001b[1;33m\u001b[0m\u001b[0m\n\u001b[0m\u001b[0;32m     64\u001b[0m \u001b[1;33m\u001b[0m\u001b[0m\n\u001b[0;32m     65\u001b[0m             \u001b[1;31m# extra_args > 0\u001b[0m\u001b[1;33m\u001b[0m\u001b[1;33m\u001b[0m\u001b[1;33m\u001b[0m\u001b[0m\n",
      "\u001b[1;32m~\\AppData\\Local\\Packages\\PythonSoftwareFoundation.Python.3.8_qbz5n2kfra8p0\\LocalCache\\local-packages\\Python38\\site-packages\\sklearn\\base.py\u001b[0m in \u001b[0;36mclone\u001b[1;34m(estimator, safe)\u001b[0m\n\u001b[0;32m     83\u001b[0m         \u001b[0mparam2\u001b[0m \u001b[1;33m=\u001b[0m \u001b[0mparams_set\u001b[0m\u001b[1;33m[\u001b[0m\u001b[0mname\u001b[0m\u001b[1;33m]\u001b[0m\u001b[1;33m\u001b[0m\u001b[1;33m\u001b[0m\u001b[0m\n\u001b[0;32m     84\u001b[0m         \u001b[1;32mif\u001b[0m \u001b[0mparam1\u001b[0m \u001b[1;32mis\u001b[0m \u001b[1;32mnot\u001b[0m \u001b[0mparam2\u001b[0m\u001b[1;33m:\u001b[0m\u001b[1;33m\u001b[0m\u001b[1;33m\u001b[0m\u001b[0m\n\u001b[1;32m---> 85\u001b[1;33m             raise RuntimeError('Cannot clone object %s, as the constructor '\n\u001b[0m\u001b[0;32m     86\u001b[0m                                \u001b[1;34m'either does not set or modifies parameter %s'\u001b[0m \u001b[1;33m%\u001b[0m\u001b[1;33m\u001b[0m\u001b[1;33m\u001b[0m\u001b[0m\n\u001b[0;32m     87\u001b[0m                                (estimator, name))\n",
      "\u001b[1;31mRuntimeError\u001b[0m: Cannot clone object <tensorflow.python.keras.wrappers.scikit_learn.KerasRegressor object at 0x000002BFF29CA5B0>, as the constructor either does not set or modifies parameter learning_rate"
     ]
    }
   ],
   "source": [
    "from scipy.stats import reciprocal\n",
    "from sklearn.model_selection import RandomizedSearchCV\n",
    "import numpy as np\n",
    "\n",
    "param_distribs = {\n",
    "    \"n_hidden\": [0, 1, 2, 3],\n",
    "    \"n_neurons\": np.arange(1, 100),\n",
    "    \"learning_rate\": reciprocal(3e-4, 3e-2),\n",
    "}\n",
    "\n",
    "rnd_search_cv = RandomizedSearchCV(keras_reg, param_distribs, n_iter=10, cv=3)\n",
    "rnd_search_cv.fit(X_train, y_train, epochs=100, \n",
    "                  validation_data=(X_valid, y_valid), \n",
    "                  callbacks=[keras.callbacks.EarlyStopping(patience=10)])"
   ]
  },
  {
   "cell_type": "code",
   "execution_count": null,
   "metadata": {},
   "outputs": [],
   "source": [
    "rnd_search_cv.best_params_"
   ]
  },
  {
   "cell_type": "code",
   "execution_count": null,
   "metadata": {},
   "outputs": [],
   "source": [
    "rnd_search_cv.best_score_"
   ]
  },
  {
   "cell_type": "markdown",
   "metadata": {},
   "source": [
    "There are many techniques to explore a search space much more efficiently than randomly.\n",
    "\n",
    "This takes care of the “zooming” process for you and leads to much better solutions in much less time. Here are a few Python libraries you can use to optimize hyperparameters.\n",
    "\n",
    "- Hyperopt -> for optimizing over all sorts of complex search spaces\n",
    "- Hyperas, kopt or Talos -> optimizing hyperparameters for Keras model (first two based on Hyperopt)\n",
    "- Scikit-Optimize -> a general-purpose optimization library\n",
    "- Spearmint -> Bayesian optimization library\n",
    "- Hyperband -> based on the receent Hyperband paper\n",
    "- Sklearn-Deap -> hyperparameter optimization library based on evolutionary algorithms, also with a GridSearchCV-like interface\n",
    "- Many more...\n",
    "\n",
    "\n",
    "Many companies offer services for such optimizations:\n",
    "* Google Cloud AI Platform\n",
    "* Arimo\n",
    "* SigOpt\n",
    "* CallDesk's Oscar"
   ]
  },
  {
   "cell_type": "markdown",
   "metadata": {},
   "source": [
    "## Number of Hidden Layers\n",
    "transfer learning -> it will only have to learn the higher-level structures and not all the layers.\n",
    "\n",
    "For many problems you can start with just one or two hidden layers and it will work just fine.\n",
    "\n",
    "For more complex problems, you can gradually ramp up the number of hidden layers, until you start overfitting the training set. Very complex tasks, such as large image classification or speech recognition, typically require networks with dozens of layers\n",
    "\n",
    "## Number of Neurons per Hidden Layer\n",
    "It is determined by the type of input and output your task requires. For example, the MNIST task requires 28 x 28 = 784 input neurons and 10 output neurons.\n",
    "\n",
    "A simpler and more efficient approach is to pick a model with more layers and neurons than you actually need, then use early stopping to prevent it from overfitting and other regularization techniques, such as dropout --> <u>stretch pants</u> approach\n",
    "With this approach, you avoid bottleneck layers that could ruin your model.\n",
    "\n",
    "GENERAL RULE: I'll get more bang for my buck by increasing the number of layers instead of the number of neurons per layer\n",
    "\n",
    "## Learning Rate, Batch Size and Other Hyperparameters\n",
    "1. <u>Learning rate</u>: the optimal is about half of the maximum learning rate (i.e. the leraning rate above which the training algorithm diverges).\n",
    "Train the model for a few hundred iterations, starting with a very low learning rate (10e-5) and gradually increasing it up to a very large value (10) --> multiply it by a constant factor at each iteration (exp(log(10e6)/500) to go from 10e-5 to 10 in 500 iterations).\n",
    "The optimal l.r. will be a bit lower than the point at which the loss starts to climb (10 times lower typically)\n",
    "\n",
    "2. <u>Optimizer</u>: Choosing a better optimizer than plain old Mini-batch Gradient Descent (see next chapter)\n",
    "\n",
    "3. <u>Batch size</u>: one strategy is to try to use large batch size (for instance up to 8192) using learning rate warmup (small then ramping it up) but if training is unstable or performances are disappointing, then try using a small batch size instead\n",
    "4. <u>Activatin function</u>:  \n",
    "    - hidden layers -> ReLU is a good default\n",
    "    - output layer: depends on my task\n",
    "5. <u>Number of iterations</u>: use early stopping\n",
    "\n",
    "GENERAL RULE: if you modify any yperparameter, make sure to update the learning rate as well\n",
    "\n",
    "<a href=\"https://homl.info/1cycle\">More info regarding tuning NN hyperparameters - 2018 paper by Leslie Smith</a>\n"
   ]
  },
  {
   "cell_type": "markdown",
   "metadata": {},
   "source": [
    "# Excercises\n",
    "\n",
    "2. Draw an ANN using the original artificial neurons (like the ones in Figure 10-3) that computes A ⊕ B (where ⊕ represents the XOR operation). Hint: A ⊕ B = (A ∧ ¬ B) ∨ (¬ A ∧ B)\n",
    "<center>\n",
    "    <img src=\"ex2_solution.jpg\" alt=\"ex2 solution\">\n",
    "</center>\n",
    "                         \n",
    "3. Why is it generally preferable to use a Logistic Regression classifier rather than a classical Perceptron (i.e., a single layer of threshold logic units trained using the Perceptron training algorithm)? How can you tweak a Perceptron to make it equivalent to a Logistic Regression classifier?\n",
    "<span style=\"color:gold\">Because Perceptrons do not output a class probability but make predictions based on a hard threshold and they are incapable of solving some trivial problems.</span>\n",
    "\n",
    "4. Why was the logistic activation function a key ingredient in training the first MLPs?\n",
    "<span style=\"color:gold\">Because after the uncover of the Backpropagation algorithm they found out it would have been worked properly with that function instead of te step function. The logistic function has a well-defined nonzero derivative everywhere.</span>\n",
    "\n",
    "5. Name three popular activation functions. Can you draw them?\n",
    "- <span style=\"color:gold\">Sigmoid</span>\n",
    "- <span style=\"color:gold\">Tanh</span>\n",
    "- <span style=\"color:gold\">ReLU</span>\n",
    "- <span style=\"color:gold\">Leaky ReLU</span>\n",
    "\n",
    "6. Suppose you have an MLP composed of one input layer with 10 passthrough neurons, followed by one hidden layer with 50 artificial neurons, and finally one output layer with 3 artificial neurons. All artificial neurons use the ReLU activation function.\n",
    "* What is the shape of the input matrix X?\n",
    "<span style=\"color:gold\">m x 10 with m = training_batch_size</span>\n",
    "* What about the shape of the hidden layer’s weight vector Wh, and the shape of its bias vector bh?\n",
    "<span style=\"color:gold\">Wh = 10 x 50; bh.length = 10</span>\n",
    "* What is the shape of the output layer’s weight vector Wo, and its bias vector bo?\n",
    "<span style=\"color:gold\">Wo = 50 x 3; bo.length = 3</span>\n",
    "* What is the shape of the network’s output matrix Y?\n",
    "<span style=\"color:gold\">m x 3</span>\n",
    "* Write the equation that computes the network’s output matrix Y as a function of X, Wh, bh, Wo and bo.\n",
    "<span style=\"color:gold\">Y* = ReLU(ReLU(XWh + bh)Wo + bo)</span>\n",
    "\n",
    " \n",
    "7. How many neurons do you need in the output layer if you want to classify email into spam or ham? What activation function should you use in the output layer? If instead you want to tackle MNIST, how many neurons do you need in the output layer, using what activation function? Answer the same questions for getting your network to predict housing prices as in Chapter 2.\n",
    "\n",
    "<span style=\"color:gold\">I need 1 neuron. I should use the logistic activation function. </span>\n",
    "\n",
    "<span style=\"color:gold\">If instead I want to tackle MNIST I should use 10 neurons and the softmax activation function.</span>\n",
    "    \n",
    "<span style=\"color:gold\">Housing problem: 1 neuron and ReLU or softplus, since I'd expect a positive output.</span>\n",
    "    \n",
    "8. What is backpropagation and how does it work? What is the difference between backpropagation and reverse-mode autodiff?\n",
    "<span style=\"color:gold\">It's an algorithm to compute the loss at every iteration. It handles one mini-batch at a time. After computing the prediction (forward pass) and the output error, using the derivatives (especially the chain-rule) the algorithm goes backward and weights how much every step has counted in the final loss value. In the end, it performs a Gradient Descent step to tweak all the connection weights in the network, using the error gradients it just computed.\n",
    "\n",
    "    <span style=\"color:gold\">Difference backpropagation-reverse autodiff: backpropagation refers to the whole process of trainig an ANN using multiple backpropagation steps. Reverse-mode autodiff is just a technique to ompute gradients efficiently, and it happens to be used by backpropagation</span>\n",
    "\n",
    "9. Can you list all the hyperparameters you can tweak in an MLP? If the MLP overfits the training data, how could you tweak these hyperparameters to try to solve the problem?\n",
    "    \n",
    "    <span style=\"color:gold\">Learning rate, mini-batch size, number of hidden layers, number of neurons per layer, optimizer, number of iterations and the activation function.\n",
    "    I can lower down the number of neurons per layer and hidden layers, regularize the learning rate gradually, decrease the mini-batch size and use the early stopping technique to stop the training when it has reached the optimal amount of iterations.</span>\n",
    "\n",
    "10. Train a deep MLP on the MNIST dataset and see if you can get over 98% precision. Try adding all the bells and whistles (i.e., save checkpoints, use early stopping, plot learning curves using TensorBoard, and so on)."
   ]
  },
  {
   "cell_type": "code",
   "execution_count": 18,
   "metadata": {},
   "outputs": [],
   "source": [
    "(X_full_train, y_full_train), (X_test, y_test) = keras.datasets.mnist.load_data(path=\"mnist.npz\")"
   ]
  },
  {
   "cell_type": "code",
   "execution_count": 31,
   "metadata": {},
   "outputs": [],
   "source": [
    "# x_full_train.shape = (60000, 28, 28)\n",
    "# x_test.shape = (10000, 28, 28)\n",
    "X_valid, X_train = X_full_train[:5000] / 255., X_full_train[5000:] / 255.\n",
    "y_valid, y_train = y_full_train[:5000], y_full_train[5000:]\n",
    "X_test = X_test / 255."
   ]
  },
  {
   "cell_type": "code",
   "execution_count": 38,
   "metadata": {},
   "outputs": [],
   "source": [
    "K = keras.backend\n",
    "K.clear_session()\n",
    "\n",
    "class ExponentialLearningRate(keras.callbacks.Callback):\n",
    "    def __init__(self, factor):\n",
    "        self.factor = factor\n",
    "        self.rates = []\n",
    "        self.losses = []\n",
    "        \n",
    "    def on_batch_end(self, batch, logs):\n",
    "        self.rates.append(K.get_value(self.model.optimizer.lr))\n",
    "        self.losses.append(logs[\"loss\"])\n",
    "        K.set_value(self.model.optimizer.lr, self.model.optimizer.lr * self.factor)"
   ]
  },
  {
   "cell_type": "code",
   "execution_count": 39,
   "metadata": {},
   "outputs": [],
   "source": [
    "keras.backend.clear_session()\n",
    "np.random.seed(42)\n",
    "tf.random.set_seed(42)"
   ]
  },
  {
   "cell_type": "code",
   "execution_count": 40,
   "metadata": {},
   "outputs": [],
   "source": [
    "model = keras.models.Sequential([\n",
    "    keras.layers.Flatten(input_shape=[28, 28]),\n",
    "    keras.layers.Dense(300, activation=\"relu\"),\n",
    "    keras.layers.Dense(100, activation=\"relu\"),\n",
    "    keras.layers.Dense(10, activation=\"softmax\")\n",
    "])"
   ]
  },
  {
   "cell_type": "code",
   "execution_count": 41,
   "metadata": {},
   "outputs": [],
   "source": [
    "model.compile(loss=\"sparse_categorical_crossentropy\",\n",
    "              optimizer=keras.optimizers.SGD(lr=1e-3),\n",
    "              metrics=[\"accuracy\"])\n",
    "expon_lr = ExponentialLearningRate(factor=1.005)"
   ]
  },
  {
   "cell_type": "code",
   "execution_count": 42,
   "metadata": {},
   "outputs": [
    {
     "name": "stdout",
     "output_type": "stream",
     "text": [
      "1719/1719 [==============================] - 8s 4ms/step - loss: 438485786096392863744.0000 - accuracy: 0.4922 - val_loss: 2.3911 - val_accuracy: 0.1126\n"
     ]
    }
   ],
   "source": [
    "history = model.fit(X_train, y_train, epochs=1,\n",
    "                    validation_data=(X_valid, y_valid),\n",
    "                    callbacks=[expon_lr])"
   ]
  },
  {
   "cell_type": "code",
   "execution_count": 43,
   "metadata": {},
   "outputs": [
    {
     "data": {
      "text/plain": [
       "Text(0, 0.5, 'Loss')"
      ]
     },
     "execution_count": 43,
     "metadata": {},
     "output_type": "execute_result"
    },
    {
     "data": {
      "image/png": "[encoded data removed]",
      "text/plain": [
       "<Figure size 432x288 with 1 Axes>"
      ]
     },
     "metadata": {
      "needs_background": "light"
     },
     "output_type": "display_data"
    }
   ],
   "source": [
    "plt.plot(expon_lr.rates, expon_lr.losses)\n",
    "plt.gca().set_xscale('log')\n",
    "plt.hlines(min(expon_lr.losses), min(expon_lr.rates), max(expon_lr.rates)) # Plot horizontal lines at each y from xmin to xmax.\n",
    "plt.axis([min(expon_lr.rates), max(expon_lr.rates), 0, expon_lr.losses[0]])\n",
    "plt.grid()\n",
    "plt.xlabel(\"Learning rate\")\n",
    "plt.ylabel(\"Loss\")"
   ]
  },
  {
   "cell_type": "markdown",
   "metadata": {},
   "source": [
    "The loss starts shooting back up violently when the learning rate goes over 6e-1, so let's try using half of that, at 3e-1:"
   ]
  },
  {
   "cell_type": "code",
   "execution_count": 44,
   "metadata": {},
   "outputs": [],
   "source": [
    "keras.backend.clear_session()\n",
    "np.random.seed(42)\n",
    "tf.random.set_seed(42)\n",
    "\n",
    "model.compile(loss=\"sparse_categorical_crossentropy\",\n",
    "              optimizer=keras.optimizers.SGD(lr=3e-1),\n",
    "              metrics=[\"accuracy\"])"
   ]
  },
  {
   "cell_type": "code",
   "execution_count": 45,
   "metadata": {},
   "outputs": [
    {
     "data": {
      "text/plain": [
       "'.\\\\my_mnist_logs\\\\run_003'"
      ]
     },
     "execution_count": 45,
     "metadata": {},
     "output_type": "execute_result"
    }
   ],
   "source": [
    "import os\n",
    "\n",
    "run_index = 3 # increment this at every run\n",
    "run_logdir = os.path.join(os.curdir, \"my_mnist_logs\", \"run_{:03d}\".format(run_index))\n",
    "run_logdir"
   ]
  },
  {
   "cell_type": "code",
   "execution_count": 46,
   "metadata": {},
   "outputs": [
    {
     "name": "stdout",
     "output_type": "stream",
     "text": [
      "Epoch 1/100\n",
      "1719/1719 [==============================] - 7s 4ms/step - loss: 2.3079 - accuracy: 0.1096 - val_loss: 2.3030 - val_accuracy: 0.1126\n",
      "Epoch 2/100\n",
      "1719/1719 [==============================] - 5s 3ms/step - loss: 2.3027 - accuracy: 0.1129 - val_loss: 2.3014 - val_accuracy: 0.0958\n",
      "Epoch 3/100\n",
      "1719/1719 [==============================] - 5s 3ms/step - loss: 2.3032 - accuracy: 0.1102 - val_loss: 2.3037 - val_accuracy: 0.1126\n",
      "Epoch 4/100\n",
      "1719/1719 [==============================] - 6s 3ms/step - loss: 2.3033 - accuracy: 0.1090 - val_loss: 2.3015 - val_accuracy: 0.1126\n",
      "Epoch 5/100\n",
      "1719/1719 [==============================] - 5s 3ms/step - loss: 2.3035 - accuracy: 0.1079 - val_loss: 2.3048 - val_accuracy: 0.1126\n",
      "Epoch 6/100\n",
      "1719/1719 [==============================] - 8s 5ms/step - loss: 2.3037 - accuracy: 0.1078 - val_loss: 2.3042 - val_accuracy: 0.1126\n",
      "Epoch 7/100\n",
      "1719/1719 [==============================] - 5s 3ms/step - loss: 2.3034 - accuracy: 0.1068 - val_loss: 2.3015 - val_accuracy: 0.1126\n",
      "Epoch 8/100\n",
      "1719/1719 [==============================] - 8s 5ms/step - loss: 2.3034 - accuracy: 0.1077 - val_loss: 2.3040 - val_accuracy: 0.0986\n",
      "Epoch 9/100\n",
      "1719/1719 [==============================] - 5s 3ms/step - loss: 2.3035 - accuracy: 0.1090 - val_loss: 2.3034 - val_accuracy: 0.0976\n",
      "Epoch 10/100\n",
      "1719/1719 [==============================] - 7s 4ms/step - loss: 2.3035 - accuracy: 0.1084 - val_loss: 2.3032 - val_accuracy: 0.0986\n",
      "Epoch 11/100\n",
      "1719/1719 [==============================] - 8s 5ms/step - loss: 2.3037 - accuracy: 0.1078 - val_loss: 2.3026 - val_accuracy: 0.1100\n",
      "Epoch 12/100\n",
      "1719/1719 [==============================] - 5s 3ms/step - loss: 2.3035 - accuracy: 0.1083 - val_loss: 2.3029 - val_accuracy: 0.1126\n",
      "Epoch 13/100\n",
      "1719/1719 [==============================] - 8s 5ms/step - loss: 2.3039 - accuracy: 0.1084 - val_loss: 2.3018 - val_accuracy: 0.1126\n",
      "Epoch 14/100\n",
      "1719/1719 [==============================] - 5s 3ms/step - loss: 2.3033 - accuracy: 0.1089 - val_loss: 2.3038 - val_accuracy: 0.1126\n",
      "Epoch 15/100\n",
      "1719/1719 [==============================] - 9s 5ms/step - loss: 2.3039 - accuracy: 0.1086 - val_loss: 2.3019 - val_accuracy: 0.1126\n",
      "Epoch 16/100\n",
      "1719/1719 [==============================] - 5s 3ms/step - loss: 2.3034 - accuracy: 0.1090 - val_loss: 2.3026 - val_accuracy: 0.0986\n",
      "Epoch 17/100\n",
      "1719/1719 [==============================] - 9s 5ms/step - loss: 2.3036 - accuracy: 0.1066 - val_loss: 2.3016 - val_accuracy: 0.1126\n",
      "Epoch 18/100\n",
      "1719/1719 [==============================] - 9s 5ms/step - loss: 2.3029 - accuracy: 0.1074 - val_loss: 2.3028 - val_accuracy: 0.1126\n",
      "Epoch 19/100\n",
      "1719/1719 [==============================] - 7s 4ms/step - loss: 2.3032 - accuracy: 0.1104 - val_loss: 2.3065 - val_accuracy: 0.0868\n",
      "Epoch 20/100\n",
      "1719/1719 [==============================] - 9s 5ms/step - loss: 2.3033 - accuracy: 0.1076 - val_loss: 2.3043 - val_accuracy: 0.1100\n",
      "Epoch 21/100\n",
      "1719/1719 [==============================] - 5s 3ms/step - loss: 2.3033 - accuracy: 0.1065 - val_loss: 2.3024 - val_accuracy: 0.1100\n",
      "Epoch 22/100\n",
      "1719/1719 [==============================] - 8s 5ms/step - loss: 2.3034 - accuracy: 0.1080 - val_loss: 2.3030 - val_accuracy: 0.1100\n"
     ]
    }
   ],
   "source": [
    "early_stopping_cb = keras.callbacks.EarlyStopping(patience=20)\n",
    "checkpoint_cb = keras.callbacks.ModelCheckpoint(\"my_mnist_model.h5\", save_best_only=True)\n",
    "tensorboard_cb = keras.callbacks.TensorBoard(run_logdir)\n",
    "\n",
    "history = model.fit(X_train, y_train, epochs=100,\n",
    "                    validation_data=(X_valid, y_valid),\n",
    "                    callbacks=[checkpoint_cb, early_stopping_cb, tensorboard_cb])"
   ]
  },
  {
   "cell_type": "code",
   "execution_count": 47,
   "metadata": {},
   "outputs": [
    {
     "name": "stdout",
     "output_type": "stream",
     "text": [
      "313/313 [==============================] - 1s 2ms/step - loss: 2.3025 - accuracy: 0.0980\n"
     ]
    },
    {
     "data": {
      "text/plain": [
       "[2.30248761177063, 0.09799999743700027]"
      ]
     },
     "execution_count": 47,
     "metadata": {},
     "output_type": "execute_result"
    }
   ],
   "source": [
    "model = keras.models.load_model(\"my_mnist_model.h5\") # rollback to best model\n",
    "model.evaluate(X_test, y_test)"
   ]
  },
  {
   "cell_type": "code",
   "execution_count": null,
   "metadata": {},
   "outputs": [],
   "source": []
  }
 ],
 "metadata": {
  "kernelspec": {
   "display_name": "Python 3",
   "language": "python",
   "name": "python3"
  },
  "language_info": {
   "codemirror_mode": {
    "name": "ipython",
    "version": 3
   },
   "file_extension": ".py",
   "mimetype": "text/x-python",
   "name": "python",
   "nbconvert_exporter": "python",
   "pygments_lexer": "ipython3",
   "version": "3.8.8"
  }
 },
 "nbformat": 4,
 "nbformat_minor": 4
}
